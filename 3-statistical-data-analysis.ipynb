{
 "cells": [
  {
   "cell_type": "markdown",
   "metadata": {},
   "source": [
    "# Which one is a better plan?\n",
    "\n",
    "You work as an analyst for the telecom operator Megaline. The company offers its clients two prepaid plans, Surf and Ultimate. The commercial department wants to know which of the plans brings in more revenue in order to adjust the advertising budget.\n",
    "\n",
    "You are going to carry out a preliminary analysis of the plans based on a relatively small client selection. You'll have the data on 500 Megaline clients: who the clients are, where they're from, which plan they use, and the number of calls they made and text messages they sent in 2018. Your job is to analyze the clients' behavior and determine which prepaid plan brings in more revenue."
   ]
  },
  {
   "cell_type": "markdown",
   "metadata": {},
   "source": [
    "## Introduction:\n",
    "\n",
    "The goal is to analyze customer behavior for the Surf and Ultimate prepaid plans and determine which plan brings in more revenue.\n",
    "\n",
    "We will clean and prepare the data, aggregate monthly usage per user, review monthly revenue per user, explore distributions and summary statistics.\n",
    "\n",
    "We will also test two hypotheses:\n",
    "-Mean revenue differs between Surf and Ultimate.\n",
    "-Mean revenue for NY-NJ area users differs from users in other regions.\n",
    "\n"
   ]
  },
  {
   "cell_type": "markdown",
   "metadata": {},
   "source": [
    "## Initialization"
   ]
  },
  {
   "cell_type": "code",
   "execution_count": 1,
   "metadata": {},
   "outputs": [],
   "source": [
    "# Loading all the libraries\n",
    "import pandas as pd\n",
    "import numpy as np\n",
    "import matplotlib.pyplot as plt\n",
    "from pathlib import Path\n",
    "from scipy import stats \n",
    "\n",
    "pd.set_option('display.max_columns', None)\n",
    "pd.set_option('display.width', 120)\n",
    "\n",
    "RANDOM_STATE = 42"
   ]
  },
  {
   "cell_type": "markdown",
   "metadata": {},
   "source": [
    "## Load data"
   ]
  },
  {
   "cell_type": "code",
   "execution_count": 2,
   "metadata": {},
   "outputs": [
    {
     "name": "stdout",
     "output_type": "stream",
     "text": [
      "calls -> exists: True\n",
      "internet -> exists: True\n",
      "messages -> exists: True\n",
      "plans -> exists: True\n",
      "users -> exists: True\n"
     ]
    }
   ],
   "source": [
    "# Load the data files \n",
    "DATA_DIR = Path('/datasets')\n",
    "\n",
    "paths = {\n",
    "    \"calls\": DATA_DIR / 'megaline_calls.csv',\n",
    "    \"internet\": DATA_DIR / 'megaline_internet.csv',\n",
    "    \"messages\": DATA_DIR / 'megaline_messages.csv',\n",
    "    \"plans\": DATA_DIR / 'megaline_plans.csv',\n",
    "    \"users\": DATA_DIR / 'megaline_users.csv',\n",
    "}\n",
    "#verify the file exists\n",
    "for name, p in paths.items():\n",
    "    print(f\"{name} -> exists: {p.exists()}\")"
   ]
  },
  {
   "cell_type": "markdown",
   "metadata": {},
   "source": [
    "Before loading the Dataframes. The date columns will be changed to_datetime"
   ]
  },
  {
   "cell_type": "code",
   "execution_count": 3,
   "metadata": {},
   "outputs": [],
   "source": [
    "#date columns to date type\n",
    "date_cols = {\n",
    "    \"users\": [\"reg_date\", \"churn_date\"],\n",
    "    \"calls\": [\"call_date\"],\n",
    "    \"internet\": [\"session_date\"],\n",
    "    \"messages\": [\"message_date\"]\n",
    "}\n",
    "\n",
    "def read_csv(path, parse_dates=None):\n",
    "    parse_dates = parse_dates or []\n",
    "    df = pd.read_csv(path)\n",
    "    for col in parse_dates:\n",
    "        if col in df.columns:\n",
    "            df[col] = pd.to_datetime(df[col])\n",
    "    return df\n",
    "    \n",
    "#DataFrames with fixed dates. \n",
    "users = read_csv(paths['users'],parse_dates=date_cols['users'])\n",
    "calls = read_csv(paths['calls'],parse_dates=date_cols['calls'])\n",
    "internet= read_csv(paths['internet'],parse_dates=date_cols['internet'])\n",
    "messages= read_csv(paths['messages'],parse_dates=date_cols['messages'])\n",
    "plans= read_csv(paths['plans'])\n",
    "\n"
   ]
  },
  {
   "cell_type": "markdown",
   "metadata": {},
   "source": [
    "### Plans"
   ]
  },
  {
   "cell_type": "code",
   "execution_count": 4,
   "metadata": {},
   "outputs": [
    {
     "name": "stdout",
     "output_type": "stream",
     "text": [
      "<class 'pandas.core.frame.DataFrame'>\n",
      "RangeIndex: 2 entries, 0 to 1\n",
      "Data columns (total 8 columns):\n",
      " #   Column                 Non-Null Count  Dtype  \n",
      "---  ------                 --------------  -----  \n",
      " 0   messages_included      2 non-null      int64  \n",
      " 1   mb_per_month_included  2 non-null      int64  \n",
      " 2   minutes_included       2 non-null      int64  \n",
      " 3   usd_monthly_pay        2 non-null      int64  \n",
      " 4   usd_per_gb             2 non-null      int64  \n",
      " 5   usd_per_message        2 non-null      float64\n",
      " 6   usd_per_minute         2 non-null      float64\n",
      " 7   plan_name              2 non-null      object \n",
      "dtypes: float64(2), int64(5), object(1)\n",
      "memory usage: 256.0+ bytes\n",
      "None\n"
     ]
    }
   ],
   "source": [
    "# Print the general/summary information about the plans' DataFrame\n",
    "print(plans.info())\n"
   ]
  },
  {
   "cell_type": "code",
   "execution_count": 5,
   "metadata": {
    "scrolled": true
   },
   "outputs": [
    {
     "name": "stdout",
     "output_type": "stream",
     "text": [
      "   messages_included  mb_per_month_included  minutes_included  usd_monthly_pay  usd_per_gb  usd_per_message  \\\n",
      "0                 50                  15360               500               20          10             0.03   \n",
      "1               1000                  30720              3000               70           7             0.01   \n",
      "\n",
      "   usd_per_minute plan_name  \n",
      "0            0.03      surf  \n",
      "1            0.01  ultimate  \n"
     ]
    }
   ],
   "source": [
    "# Print a sample of data for plans\n",
    "print(plans.head())\n",
    "\n"
   ]
  },
  {
   "cell_type": "markdown",
   "metadata": {},
   "source": [
    "**Observations:**\n",
    "\n",
    "-There are only rows, corresponding to the two plans we are analizing.\n",
    "\n",
    "-We will need to change the column name \"usd_monthly_pay\" to \"usd_monthly_fee\" so we can merge the tables.\n",
    "\n",
    "-We will need to change the colum name \"plan_name\" to \"plan\" so we can merge the tables"
   ]
  },
  {
   "cell_type": "markdown",
   "metadata": {},
   "source": [
    "#### Clean Plans"
   ]
  },
  {
   "cell_type": "code",
   "execution_count": 6,
   "metadata": {},
   "outputs": [
    {
     "name": "stdout",
     "output_type": "stream",
     "text": [
      "Index(['messages_included', 'mb_per_month_included', 'minutes_included', 'usd_monthly_fee', 'usd_per_gb',\n",
      "       'usd_per_message', 'usd_per_minute', 'plan'],\n",
      "      dtype='object')\n"
     ]
    }
   ],
   "source": [
    "#change column names\n",
    "plans = plans.rename(columns={\n",
    "    'plan_name': 'plan',\n",
    "    'usd_monthly_pay': 'usd_monthly_fee'\n",
    "})\n",
    "\n",
    "print(plans.columns)"
   ]
  },
  {
   "cell_type": "markdown",
   "metadata": {},
   "source": [
    "### Users"
   ]
  },
  {
   "cell_type": "code",
   "execution_count": 7,
   "metadata": {},
   "outputs": [
    {
     "name": "stdout",
     "output_type": "stream",
     "text": [
      "<class 'pandas.core.frame.DataFrame'>\n",
      "RangeIndex: 500 entries, 0 to 499\n",
      "Data columns (total 8 columns):\n",
      " #   Column      Non-Null Count  Dtype         \n",
      "---  ------      --------------  -----         \n",
      " 0   user_id     500 non-null    int64         \n",
      " 1   first_name  500 non-null    object        \n",
      " 2   last_name   500 non-null    object        \n",
      " 3   age         500 non-null    int64         \n",
      " 4   city        500 non-null    object        \n",
      " 5   reg_date    500 non-null    datetime64[ns]\n",
      " 6   plan        500 non-null    object        \n",
      " 7   churn_date  34 non-null     datetime64[ns]\n",
      "dtypes: datetime64[ns](2), int64(2), object(4)\n",
      "memory usage: 31.4+ KB\n",
      "None\n"
     ]
    }
   ],
   "source": [
    "# Print the general/summary information about the users' DataFrame\n",
    "print(users.info())\n"
   ]
  },
  {
   "cell_type": "code",
   "execution_count": 8,
   "metadata": {},
   "outputs": [
    {
     "name": "stdout",
     "output_type": "stream",
     "text": [
      "   user_id first_name  last_name  age                                   city   reg_date      plan churn_date\n",
      "0     1000   Anamaria      Bauer   45  Atlanta-Sandy Springs-Roswell, GA MSA 2018-12-24  ultimate        NaT\n",
      "1     1001     Mickey  Wilkerson   28        Seattle-Tacoma-Bellevue, WA MSA 2018-08-13      surf        NaT\n",
      "2     1002     Carlee    Hoffman   36   Las Vegas-Henderson-Paradise, NV MSA 2018-10-21      surf        NaT\n",
      "3     1003   Reynaldo    Jenkins   52                          Tulsa, OK MSA 2018-01-28      surf        NaT\n",
      "4     1004    Leonila   Thompson   40        Seattle-Tacoma-Bellevue, WA MSA 2018-05-23      surf        NaT\n"
     ]
    }
   ],
   "source": [
    "# Print a sample of data for users\n",
    "print(users.head())\n"
   ]
  },
  {
   "cell_type": "markdown",
   "metadata": {},
   "source": [
    "**Observations**\n",
    "\n",
    "500 rows = matches the project brief (500 clients).\n",
    "\n",
    "reg_date and churn_date are datetime64[ns]\n",
    "\n",
    "churn_date has only 34 non-null values → meaning 34 people canceled service, the rest are still active (we’ll treat NaT as “still active”).\n"
   ]
  },
  {
   "cell_type": "markdown",
   "metadata": {},
   "source": [
    "#### Clean Users\n",
    "I was getting duplicate columns and I was able to correct them by removing the spaces in the column names\n"
   ]
  },
  {
   "cell_type": "code",
   "execution_count": 9,
   "metadata": {},
   "outputs": [],
   "source": [
    "#strip column names\n",
    "users = users.copy()\n",
    "users.columns = users.columns.str.strip()"
   ]
  },
  {
   "cell_type": "markdown",
   "metadata": {},
   "source": [
    "#### Enhance Users"
   ]
  },
  {
   "cell_type": "code",
   "execution_count": 10,
   "metadata": {},
   "outputs": [],
   "source": [
    "# Change column plan to \"category type\"\n",
    "if 'plan_name' in users.columns:\n",
    "    users['plan_name'] = users['plan'].astype('category')\n"
   ]
  },
  {
   "cell_type": "markdown",
   "metadata": {},
   "source": [
    "### Calls"
   ]
  },
  {
   "cell_type": "code",
   "execution_count": 11,
   "metadata": {},
   "outputs": [
    {
     "name": "stdout",
     "output_type": "stream",
     "text": [
      "<class 'pandas.core.frame.DataFrame'>\n",
      "RangeIndex: 137735 entries, 0 to 137734\n",
      "Data columns (total 4 columns):\n",
      " #   Column     Non-Null Count   Dtype         \n",
      "---  ------     --------------   -----         \n",
      " 0   id         137735 non-null  object        \n",
      " 1   user_id    137735 non-null  int64         \n",
      " 2   call_date  137735 non-null  datetime64[ns]\n",
      " 3   duration   137735 non-null  float64       \n",
      "dtypes: datetime64[ns](1), float64(1), int64(1), object(1)\n",
      "memory usage: 4.2+ MB\n",
      "None\n"
     ]
    }
   ],
   "source": [
    "# Print the general/summary information about the calls' DataFrame\n",
    "print(calls.info())\n"
   ]
  },
  {
   "cell_type": "code",
   "execution_count": 12,
   "metadata": {},
   "outputs": [
    {
     "name": "stdout",
     "output_type": "stream",
     "text": [
      "         id  user_id  call_date  duration\n",
      "0   1000_93     1000 2018-12-27      8.52\n",
      "1  1000_145     1000 2018-12-27     13.66\n",
      "2  1000_247     1000 2018-12-27     14.48\n",
      "3  1000_309     1000 2018-12-28      5.76\n",
      "4  1000_380     1000 2018-12-30      4.22\n"
     ]
    }
   ],
   "source": [
    "# Print a sample of data for calls\n",
    "print(calls.head())\n"
   ]
  },
  {
   "cell_type": "markdown",
   "metadata": {},
   "source": [
    "**Observations**\n",
    "\n",
    "-Call_date is datetime64[ns].\n",
    "\n",
    "-Duration is float64. Raw durations can be fractional minutes. We’ll later round per call to the nearest whole minute."
   ]
  },
  {
   "cell_type": "markdown",
   "metadata": {},
   "source": [
    "#### Enhance Calls"
   ]
  },
  {
   "cell_type": "code",
   "execution_count": 13,
   "metadata": {},
   "outputs": [],
   "source": [
    "#Round up duration\n",
    "calls['duration'] = pd.to_numeric(calls['duration'], errors='coerce')\n",
    "calls['duration'] = calls['duration'].clip(lower=0)"
   ]
  },
  {
   "cell_type": "markdown",
   "metadata": {},
   "source": [
    "### Messages"
   ]
  },
  {
   "cell_type": "code",
   "execution_count": 14,
   "metadata": {},
   "outputs": [
    {
     "name": "stdout",
     "output_type": "stream",
     "text": [
      "<class 'pandas.core.frame.DataFrame'>\n",
      "RangeIndex: 76051 entries, 0 to 76050\n",
      "Data columns (total 3 columns):\n",
      " #   Column        Non-Null Count  Dtype         \n",
      "---  ------        --------------  -----         \n",
      " 0   id            76051 non-null  object        \n",
      " 1   user_id       76051 non-null  int64         \n",
      " 2   message_date  76051 non-null  datetime64[ns]\n",
      "dtypes: datetime64[ns](1), int64(1), object(1)\n",
      "memory usage: 1.7+ MB\n",
      "None\n"
     ]
    }
   ],
   "source": [
    "# Print the general/summary information about the messages' DataFrame\n",
    "print(messages.info())\n"
   ]
  },
  {
   "cell_type": "code",
   "execution_count": 15,
   "metadata": {},
   "outputs": [
    {
     "name": "stdout",
     "output_type": "stream",
     "text": [
      "         id  user_id message_date\n",
      "0  1000_125     1000   2018-12-27\n",
      "1  1000_160     1000   2018-12-31\n",
      "2  1000_223     1000   2018-12-31\n",
      "3  1000_251     1000   2018-12-27\n",
      "4  1000_255     1000   2018-12-26\n"
     ]
    }
   ],
   "source": [
    "# Print a sample of data for messages\n",
    "print(messages.head())"
   ]
  },
  {
   "cell_type": "markdown",
   "metadata": {},
   "source": [
    "**Observations**\n",
    "\n",
    "-message_date is datetime64[ns] already"
   ]
  },
  {
   "cell_type": "markdown",
   "metadata": {},
   "source": [
    "### Internet"
   ]
  },
  {
   "cell_type": "code",
   "execution_count": 16,
   "metadata": {},
   "outputs": [
    {
     "name": "stdout",
     "output_type": "stream",
     "text": [
      "<class 'pandas.core.frame.DataFrame'>\n",
      "RangeIndex: 104825 entries, 0 to 104824\n",
      "Data columns (total 4 columns):\n",
      " #   Column        Non-Null Count   Dtype         \n",
      "---  ------        --------------   -----         \n",
      " 0   id            104825 non-null  object        \n",
      " 1   user_id       104825 non-null  int64         \n",
      " 2   session_date  104825 non-null  datetime64[ns]\n",
      " 3   mb_used       104825 non-null  float64       \n",
      "dtypes: datetime64[ns](1), float64(1), int64(1), object(1)\n",
      "memory usage: 3.2+ MB\n",
      "None\n"
     ]
    }
   ],
   "source": [
    "# Print the general/summary information about the internet DataFrame\n",
    "print(internet.info())"
   ]
  },
  {
   "cell_type": "code",
   "execution_count": 17,
   "metadata": {},
   "outputs": [
    {
     "name": "stdout",
     "output_type": "stream",
     "text": [
      "         id  user_id session_date  mb_used\n",
      "0   1000_13     1000   2018-12-29    89.86\n",
      "1  1000_204     1000   2018-12-31     0.00\n",
      "2  1000_379     1000   2018-12-28   660.40\n",
      "3  1000_413     1000   2018-12-26   270.99\n",
      "4  1000_442     1000   2018-12-27   880.22\n"
     ]
    }
   ],
   "source": [
    "# Print a sample of data for the internet traffic\n",
    "print(internet.head())"
   ]
  },
  {
   "cell_type": "markdown",
   "metadata": {},
   "source": [
    "**Observations**\n",
    "\n",
    "-session_date is datetime64[ns].\n",
    "\n",
    "-mb_used is float64. Expected (can be decimal MB values). After adding them we will do the GB rounding rule."
   ]
  },
  {
   "cell_type": "markdown",
   "metadata": {},
   "source": [
    "#### Enhance Internet"
   ]
  },
  {
   "cell_type": "code",
   "execution_count": 18,
   "metadata": {},
   "outputs": [],
   "source": [
    "#Round up GB\n",
    "\n",
    "internet['mb_used'] = pd.to_numeric(internet['mb_used'], errors='coerce')\n",
    "internet['mb_used'] = internet['mb_used'].clip(lower=0)"
   ]
  },
  {
   "cell_type": "markdown",
   "metadata": {},
   "source": [
    "## Study plan conditions"
   ]
  },
  {
   "cell_type": "code",
   "execution_count": 19,
   "metadata": {},
   "outputs": [
    {
     "name": "stdout",
     "output_type": "stream",
     "text": [
      "   messages_included  mb_per_month_included  minutes_included  usd_monthly_fee  usd_per_gb  usd_per_message  \\\n",
      "0                 50                  15360               500               20          10             0.03   \n",
      "1               1000                  30720              3000               70           7             0.01   \n",
      "\n",
      "   usd_per_minute      plan  \n",
      "0            0.03      surf  \n",
      "1            0.01  ultimate  \n"
     ]
    }
   ],
   "source": [
    "# Print out the plan conditions and make sure they are clear for you\n",
    "print(plans)\n"
   ]
  },
  {
   "cell_type": "markdown",
   "metadata": {},
   "source": [
    "## Aggregate data per user"
   ]
  },
  {
   "cell_type": "code",
   "execution_count": 20,
   "metadata": {},
   "outputs": [
    {
     "data": {
      "text/html": [
       "<div>\n",
       "<style scoped>\n",
       "    .dataframe tbody tr th:only-of-type {\n",
       "        vertical-align: middle;\n",
       "    }\n",
       "\n",
       "    .dataframe tbody tr th {\n",
       "        vertical-align: top;\n",
       "    }\n",
       "\n",
       "    .dataframe thead th {\n",
       "        text-align: right;\n",
       "    }\n",
       "</style>\n",
       "<table border=\"1\" class=\"dataframe\">\n",
       "  <thead>\n",
       "    <tr style=\"text-align: right;\">\n",
       "      <th></th>\n",
       "      <th>user_id</th>\n",
       "      <th>month</th>\n",
       "      <th>total_calls</th>\n",
       "      <th>minutes_used</th>\n",
       "    </tr>\n",
       "  </thead>\n",
       "  <tbody>\n",
       "    <tr>\n",
       "      <th>0</th>\n",
       "      <td>1000</td>\n",
       "      <td>2018-12</td>\n",
       "      <td>16</td>\n",
       "      <td>124</td>\n",
       "    </tr>\n",
       "    <tr>\n",
       "      <th>1</th>\n",
       "      <td>1001</td>\n",
       "      <td>2018-08</td>\n",
       "      <td>27</td>\n",
       "      <td>182</td>\n",
       "    </tr>\n",
       "    <tr>\n",
       "      <th>2</th>\n",
       "      <td>1001</td>\n",
       "      <td>2018-09</td>\n",
       "      <td>49</td>\n",
       "      <td>315</td>\n",
       "    </tr>\n",
       "    <tr>\n",
       "      <th>3</th>\n",
       "      <td>1001</td>\n",
       "      <td>2018-10</td>\n",
       "      <td>65</td>\n",
       "      <td>393</td>\n",
       "    </tr>\n",
       "    <tr>\n",
       "      <th>4</th>\n",
       "      <td>1001</td>\n",
       "      <td>2018-11</td>\n",
       "      <td>64</td>\n",
       "      <td>426</td>\n",
       "    </tr>\n",
       "  </tbody>\n",
       "</table>\n",
       "</div>"
      ],
      "text/plain": [
       "   user_id    month  total_calls  minutes_used\n",
       "0     1000  2018-12           16           124\n",
       "1     1001  2018-08           27           182\n",
       "2     1001  2018-09           49           315\n",
       "3     1001  2018-10           65           393\n",
       "4     1001  2018-11           64           426"
      ]
     },
     "execution_count": 20,
     "metadata": {},
     "output_type": "execute_result"
    }
   ],
   "source": [
    "# Calculate the number of calls made by each user per month. Save the result.\n",
    "\n",
    "#Create column to save only the month of the call\n",
    "calls['month'] = calls['call_date'].dt.to_period('M')\n",
    "\n",
    "# Per- call rounding up to the next minute using ceil\n",
    "calls['minutes_rounded'] = np.ceil(calls['duration']).astype(int)\n",
    "\n",
    "# Aggregate per user per month\n",
    "calls_monthly = (calls\n",
    "    .groupby(['user_id','month'], as_index=False)\n",
    "    .agg(total_calls=('id','count'),\n",
    "         minutes_used=('minutes_rounded','sum'))\n",
    ")\n",
    "calls_monthly.head()\n"
   ]
  },
  {
   "cell_type": "code",
   "execution_count": 21,
   "metadata": {},
   "outputs": [
    {
     "name": "stdout",
     "output_type": "stream",
     "text": [
      "user_id  month  \n",
      "1000     2018-12    124\n",
      "1001     2018-08    182\n",
      "         2018-09    315\n",
      "         2018-10    393\n",
      "         2018-11    426\n",
      "                   ... \n",
      "1498     2018-12    339\n",
      "1499     2018-09    346\n",
      "         2018-10    385\n",
      "         2018-11    308\n",
      "         2018-12    496\n",
      "Name: minutes_rounded, Length: 2258, dtype: int64\n"
     ]
    }
   ],
   "source": [
    "# Calculate the amount of minutes spent by each user per month. Save the result.\n",
    "\n",
    "minutes_per_user_month = (\n",
    "    calls.groupby(['user_id', 'month'])['minutes_rounded']\n",
    "         .sum()\n",
    ")\n",
    "\n",
    "print(minutes_per_user_month)"
   ]
  },
  {
   "cell_type": "code",
   "execution_count": 22,
   "metadata": {},
   "outputs": [
    {
     "data": {
      "text/html": [
       "<div>\n",
       "<style scoped>\n",
       "    .dataframe tbody tr th:only-of-type {\n",
       "        vertical-align: middle;\n",
       "    }\n",
       "\n",
       "    .dataframe tbody tr th {\n",
       "        vertical-align: top;\n",
       "    }\n",
       "\n",
       "    .dataframe thead th {\n",
       "        text-align: right;\n",
       "    }\n",
       "</style>\n",
       "<table border=\"1\" class=\"dataframe\">\n",
       "  <thead>\n",
       "    <tr style=\"text-align: right;\">\n",
       "      <th></th>\n",
       "      <th>user_id</th>\n",
       "      <th>month</th>\n",
       "      <th>messages_sent</th>\n",
       "    </tr>\n",
       "  </thead>\n",
       "  <tbody>\n",
       "    <tr>\n",
       "      <th>0</th>\n",
       "      <td>1000</td>\n",
       "      <td>2018-12</td>\n",
       "      <td>11</td>\n",
       "    </tr>\n",
       "    <tr>\n",
       "      <th>1</th>\n",
       "      <td>1001</td>\n",
       "      <td>2018-08</td>\n",
       "      <td>30</td>\n",
       "    </tr>\n",
       "    <tr>\n",
       "      <th>2</th>\n",
       "      <td>1001</td>\n",
       "      <td>2018-09</td>\n",
       "      <td>44</td>\n",
       "    </tr>\n",
       "    <tr>\n",
       "      <th>3</th>\n",
       "      <td>1001</td>\n",
       "      <td>2018-10</td>\n",
       "      <td>53</td>\n",
       "    </tr>\n",
       "    <tr>\n",
       "      <th>4</th>\n",
       "      <td>1001</td>\n",
       "      <td>2018-11</td>\n",
       "      <td>36</td>\n",
       "    </tr>\n",
       "  </tbody>\n",
       "</table>\n",
       "</div>"
      ],
      "text/plain": [
       "   user_id    month  messages_sent\n",
       "0     1000  2018-12             11\n",
       "1     1001  2018-08             30\n",
       "2     1001  2018-09             44\n",
       "3     1001  2018-10             53\n",
       "4     1001  2018-11             36"
      ]
     },
     "execution_count": 22,
     "metadata": {},
     "output_type": "execute_result"
    }
   ],
   "source": [
    "# Calculate the number of messages sent by each user per month. Save the result.\n",
    "\n",
    "#Create column to save only the month of the message\n",
    "messages['month'] = messages['message_date'].dt.to_period('M')\n",
    "\n",
    "# Aggregate per user per month\n",
    "messages_monthly = (messages\n",
    "    .groupby(['user_id','month'], as_index=False)\n",
    "    .agg(messages_sent=('id','count'))\n",
    ")\n",
    "\n",
    "messages_monthly.head()"
   ]
  },
  {
   "cell_type": "code",
   "execution_count": 23,
   "metadata": {},
   "outputs": [
    {
     "data": {
      "text/html": [
       "<div>\n",
       "<style scoped>\n",
       "    .dataframe tbody tr th:only-of-type {\n",
       "        vertical-align: middle;\n",
       "    }\n",
       "\n",
       "    .dataframe tbody tr th {\n",
       "        vertical-align: top;\n",
       "    }\n",
       "\n",
       "    .dataframe thead th {\n",
       "        text-align: right;\n",
       "    }\n",
       "</style>\n",
       "<table border=\"1\" class=\"dataframe\">\n",
       "  <thead>\n",
       "    <tr style=\"text-align: right;\">\n",
       "      <th></th>\n",
       "      <th>user_id</th>\n",
       "      <th>month</th>\n",
       "      <th>total_calls</th>\n",
       "      <th>minutes_used</th>\n",
       "    </tr>\n",
       "  </thead>\n",
       "  <tbody>\n",
       "    <tr>\n",
       "      <th>0</th>\n",
       "      <td>1000</td>\n",
       "      <td>2018-12</td>\n",
       "      <td>16</td>\n",
       "      <td>124</td>\n",
       "    </tr>\n",
       "    <tr>\n",
       "      <th>1</th>\n",
       "      <td>1001</td>\n",
       "      <td>2018-08</td>\n",
       "      <td>27</td>\n",
       "      <td>182</td>\n",
       "    </tr>\n",
       "    <tr>\n",
       "      <th>2</th>\n",
       "      <td>1001</td>\n",
       "      <td>2018-09</td>\n",
       "      <td>49</td>\n",
       "      <td>315</td>\n",
       "    </tr>\n",
       "    <tr>\n",
       "      <th>3</th>\n",
       "      <td>1001</td>\n",
       "      <td>2018-10</td>\n",
       "      <td>65</td>\n",
       "      <td>393</td>\n",
       "    </tr>\n",
       "    <tr>\n",
       "      <th>4</th>\n",
       "      <td>1001</td>\n",
       "      <td>2018-11</td>\n",
       "      <td>64</td>\n",
       "      <td>426</td>\n",
       "    </tr>\n",
       "  </tbody>\n",
       "</table>\n",
       "</div>"
      ],
      "text/plain": [
       "   user_id    month  total_calls  minutes_used\n",
       "0     1000  2018-12           16           124\n",
       "1     1001  2018-08           27           182\n",
       "2     1001  2018-09           49           315\n",
       "3     1001  2018-10           65           393\n",
       "4     1001  2018-11           64           426"
      ]
     },
     "execution_count": 23,
     "metadata": {},
     "output_type": "execute_result"
    }
   ],
   "source": [
    "# Calculate the volume of internet traffic used by each user per month. Save the result.\n",
    "\n",
    "#Create column to save only the month of the internet session\n",
    "internet['month'] = internet['session_date'].dt.to_period('M')\n",
    "\n",
    "# Aggregate per user per month\n",
    "internet_monthly = (internet\n",
    "    .groupby(['user_id','month'], as_index=False)\n",
    "    .agg(mb_used=('mb_used','sum'))\n",
    ")\n",
    "calls_monthly.head()"
   ]
  },
  {
   "cell_type": "markdown",
   "metadata": {},
   "source": [
    "### One DataFrame"
   ]
  },
  {
   "cell_type": "code",
   "execution_count": 24,
   "metadata": {},
   "outputs": [
    {
     "name": "stdout",
     "output_type": "stream",
     "text": [
      "<class 'pandas.core.frame.DataFrame'>\n",
      "Int64Index: 2258 entries, 0 to 2257\n",
      "Data columns (total 7 columns):\n",
      " #   Column           Non-Null Count  Dtype    \n",
      "---  ------           --------------  -----    \n",
      " 0   user_id          2258 non-null   int64    \n",
      " 1   month            2258 non-null   period[M]\n",
      " 2   total_calls      2258 non-null   int64    \n",
      " 3   minutes_used     2258 non-null   int64    \n",
      " 4   minutes_rounded  2258 non-null   int64    \n",
      " 5   messages_sent    1773 non-null   float64  \n",
      " 6   mb_used          2243 non-null   float64  \n",
      "dtypes: float64(2), int64(4), period[M](1)\n",
      "memory usage: 141.1 KB\n",
      "None\n"
     ]
    }
   ],
   "source": [
    "# Merge the data for calls, minutes, messages, internet based on user_id and month\n",
    "monthly = (calls_monthly\n",
    "    .merge(minutes_per_user_month,   on=['user_id','month'], how='left')\n",
    "    .merge(messages_monthly, on=['user_id','month'], how='left')\n",
    "    .merge(internet_monthly, on=['user_id','month'], how='left')\n",
    ")\n",
    "\n",
    "print(monthly.info())\n"
   ]
  },
  {
   "cell_type": "code",
   "execution_count": 25,
   "metadata": {},
   "outputs": [
    {
     "name": "stdout",
     "output_type": "stream",
     "text": [
      "<class 'pandas.core.frame.DataFrame'>\n",
      "Int64Index: 2258 entries, 0 to 2257\n",
      "Data columns (total 17 columns):\n",
      " #   Column                 Non-Null Count  Dtype    \n",
      "---  ------                 --------------  -----    \n",
      " 0   user_id                2258 non-null   int64    \n",
      " 1   month                  2258 non-null   period[M]\n",
      " 2   total_calls            2258 non-null   int64    \n",
      " 3   minutes_used           2258 non-null   int64    \n",
      " 4   minutes_rounded        2258 non-null   int64    \n",
      " 5   messages_sent          2258 non-null   int64    \n",
      " 6   mb_used                2258 non-null   int64    \n",
      " 7   plan                   2258 non-null   object   \n",
      " 8   city                   2258 non-null   object   \n",
      " 9   messages_included      2258 non-null   int64    \n",
      " 10  mb_per_month_included  2258 non-null   int64    \n",
      " 11  minutes_included       2258 non-null   int64    \n",
      " 12  usd_monthly_fee        2258 non-null   int64    \n",
      " 13  usd_per_gb             2258 non-null   int64    \n",
      " 14  usd_per_message        2258 non-null   float64  \n",
      " 15  usd_per_minute         2258 non-null   float64  \n",
      " 16  gb_used                2258 non-null   float64  \n",
      "dtypes: float64(3), int64(11), object(2), period[M](1)\n",
      "memory usage: 317.5+ KB\n",
      "None\n"
     ]
    }
   ],
   "source": [
    "# Add the plan information\n",
    "# Clean starting point (drop any leftover plan cols if they exist)\n",
    "monthly = monthly.drop(columns=['plan'], errors='ignore')\n",
    "\n",
    "# Merge user info\n",
    "monthly = monthly.merge(\n",
    "    users[['user_id', 'plan', 'city']],   # keep city too for hypothesis later\n",
    "    on='user_id',\n",
    "    how='left',\n",
    "    validate='m:1'\n",
    ")\n",
    "\n",
    "# Merge plan details\n",
    "monthly = monthly.merge(\n",
    "    plans,\n",
    "    on='plan',\n",
    "    how='left',\n",
    "    validate='m:1'\n",
    ")\n",
    "\n",
    "#Fill usages that are emplty (NaN)\n",
    "monthly[['messages_sent','mb_used']] = monthly[['messages_sent','mb_used']].fillna(0)\n",
    "#Fix data type\n",
    "monthly['messages_sent'] = monthly['messages_sent'].astype(int)\n",
    "monthly['mb_used'] = monthly['mb_used'].astype(int)\n",
    "\n",
    "#Create GB Column\n",
    "monthly['gb_used'] = monthly['mb_used'] / 1024\n",
    "\n",
    "\n",
    "print(monthly.info())"
   ]
  },
  {
   "cell_type": "markdown",
   "metadata": {},
   "source": [
    "### Revenue Per User"
   ]
  },
  {
   "cell_type": "code",
   "execution_count": 26,
   "metadata": {},
   "outputs": [
    {
     "name": "stdout",
     "output_type": "stream",
     "text": [
      "<class 'pandas.core.frame.DataFrame'>\n",
      "Int64Index: 2258 entries, 0 to 2257\n",
      "Data columns (total 24 columns):\n",
      " #   Column                 Non-Null Count  Dtype    \n",
      "---  ------                 --------------  -----    \n",
      " 0   user_id                2258 non-null   int64    \n",
      " 1   month                  2258 non-null   period[M]\n",
      " 2   total_calls            2258 non-null   int64    \n",
      " 3   minutes_used           2258 non-null   int64    \n",
      " 4   minutes_rounded        2258 non-null   int64    \n",
      " 5   messages_sent          2258 non-null   int64    \n",
      " 6   mb_used                2258 non-null   int64    \n",
      " 7   plan                   2258 non-null   object   \n",
      " 8   city                   2258 non-null   object   \n",
      " 9   messages_included      2258 non-null   int64    \n",
      " 10  mb_per_month_included  2258 non-null   int64    \n",
      " 11  minutes_included       2258 non-null   int64    \n",
      " 12  usd_monthly_fee        2258 non-null   int64    \n",
      " 13  usd_per_gb             2258 non-null   int64    \n",
      " 14  usd_per_message        2258 non-null   float64  \n",
      " 15  usd_per_minute         2258 non-null   float64  \n",
      " 16  gb_used                2258 non-null   float64  \n",
      " 17  minutes_over           2258 non-null   int64    \n",
      " 18  messages_over          2258 non-null   int64    \n",
      " 19  extra_gb               2258 non-null   int64    \n",
      " 20  charge_minutes         2258 non-null   float64  \n",
      " 21  charge_messages        2258 non-null   float64  \n",
      " 22  charge_data            2258 non-null   int64    \n",
      " 23  revenue                2258 non-null   float64  \n",
      "dtypes: float64(6), int64(15), object(2), period[M](1)\n",
      "memory usage: 441.0+ KB\n"
     ]
    }
   ],
   "source": [
    "# Calculate the monthly revenue for each user\n",
    "# Minutes and messages overage\n",
    "monthly['minutes_over'] = (monthly['minutes_used'] - monthly['minutes_included']).clip(lower=0)\n",
    "monthly['messages_over'] = (monthly['messages_sent'] - monthly['messages_included']).clip(lower=0)\n",
    "\n",
    "# Data overage in whole GB\n",
    "extra_mb = (monthly['mb_used'] - monthly['mb_per_month_included']).clip(lower=0)\n",
    "monthly['extra_gb'] = np.ceil(extra_mb / 1024).astype(int)\n",
    "\n",
    "# Charges\n",
    "monthly['charge_minutes']  = monthly['minutes_over']   * monthly['usd_per_minute']\n",
    "monthly['charge_messages'] = monthly['messages_over']  * monthly['usd_per_message']\n",
    "monthly['charge_data']     = monthly['extra_gb']       * monthly['usd_per_gb']\n",
    "\n",
    "monthly['revenue'] = monthly['usd_monthly_fee'] + monthly['charge_minutes'] + monthly['charge_messages'] + monthly['charge_data']\n",
    "\n",
    "monthly.info()"
   ]
  },
  {
   "cell_type": "markdown",
   "metadata": {},
   "source": [
    "## Study user behaviour"
   ]
  },
  {
   "cell_type": "markdown",
   "metadata": {},
   "source": [
    "[Calculate some useful descriptive statistics for the aggregated and merged data, which typically reveal an overall picture captured by the data. Draw useful plots to help the understanding. Given that the main task is to compare the plans and decide on which one is more profitable, the statistics and the plots should be calculated on a per-plan basis.]\n",
    "\n",
    "[There are relevant hints in the comments for Calls but they are not provided for Messages and Internet though the principle of statistical study is the same for them as for Calls.]"
   ]
  },
  {
   "cell_type": "markdown",
   "metadata": {},
   "source": [
    "### Calls"
   ]
  },
  {
   "cell_type": "code",
   "execution_count": 27,
   "metadata": {},
   "outputs": [
    {
     "data": {
      "image/png": "[encoded data removed]",
      "text/plain": [
       "<Figure size 1200x600 with 1 Axes>"
      ]
     },
     "metadata": {},
     "output_type": "display_data"
    }
   ],
   "source": [
    "# Compare average duration of calls per each plan per each distinct month. Plot a bar plat to visualize it.\n",
    "\n",
    "# Calculate average duration of calls per plan per month\n",
    "avg_duration = (\n",
    "    monthly.groupby([\"month\", \"plan\"])[\"minutes_used\"]\n",
    "      .mean()\n",
    "      .reset_index()\n",
    ")\n",
    "\n",
    "# Pivot for easier plotting (months as x-axis, plans as separate bars)\n",
    "pivot_table = avg_duration.pivot(index=\"month\", columns=\"plan\", values=\"minutes_used\")\n",
    "\n",
    "# Plot\n",
    "pivot_table.plot(kind=\"bar\", figsize=(12,6))\n",
    "\n",
    "plt.title(\"Average Call Duration per Plan per Month\")\n",
    "plt.xlabel(\"Month\")\n",
    "plt.ylabel(\"Average Minutes Used\")\n",
    "plt.xticks(rotation=45)\n",
    "plt.legend(title=\"Plan\")\n",
    "plt.tight_layout()\n",
    "plt.show()"
   ]
  },
  {
   "cell_type": "markdown",
   "metadata": {},
   "source": [
    "**Observations**\n",
    "User behavior is similar across plans. Having more included minutes in \"ultimate\" didn’t drastically change calling habits.\n",
    "\n",
    "February stands out as unusual \n",
    "\n",
    "Regardless of plan, customers used more minutes as the year went on. Could suggest higher engagement, more reliance on phones, or simply growth in customer base."
   ]
  },
  {
   "cell_type": "code",
   "execution_count": 28,
   "metadata": {},
   "outputs": [
    {
     "data": {
      "image/png": "[encoded data removed]",
      "text/plain": [
       "<Figure size 1000x600 with 1 Axes>"
      ]
     },
     "metadata": {},
     "output_type": "display_data"
    }
   ],
   "source": [
    "# Compare the number of minutes users of each plan require each month. Plot a histogram.\n",
    "\n",
    "# Plot histogram of minutes_used, split by plan\n",
    "plt.figure(figsize=(10,6))\n",
    "\n",
    "for plan in monthly['plan'].unique():\n",
    "    subset = monthly[monthly['plan'] == plan]\n",
    "    plt.hist(subset['minutes_used'], bins=30, alpha=0.5, label=plan)\n",
    "\n",
    "plt.title(\"Distribution of Minutes Used per Plan\")\n",
    "plt.xlabel(\"Minutes Used\")\n",
    "plt.ylabel(\"Number of Users\")\n",
    "plt.legend(title=\"Plan\")\n",
    "plt.tight_layout()\n",
    "plt.show()\n"
   ]
  },
  {
   "cell_type": "markdown",
   "metadata": {},
   "source": [
    "**Observations**\n",
    "\n",
    "Both plans peak around 450 minutes. \n",
    "\n",
    "There are more surf users than ultimate users."
   ]
  },
  {
   "cell_type": "code",
   "execution_count": 29,
   "metadata": {},
   "outputs": [
    {
     "name": "stdout",
     "output_type": "stream",
     "text": [
      "       plan        mean           var\n",
      "0      surf  436.519741  52571.063243\n",
      "1  ultimate  434.676017  56573.632247\n"
     ]
    }
   ],
   "source": [
    "# Calculate the mean and the variance of the monthly call duration\n",
    "\n",
    "call_stats = (\n",
    "    monthly.groupby(\"plan\")[\"minutes_used\"]\n",
    "      .agg([\"mean\", \"var\"])\n",
    "      .reset_index()\n",
    ")\n",
    "\n",
    "print(call_stats)\n"
   ]
  },
  {
   "cell_type": "code",
   "execution_count": 30,
   "metadata": {},
   "outputs": [
    {
     "data": {
      "text/plain": [
       "<Figure size 800x600 with 0 Axes>"
      ]
     },
     "metadata": {},
     "output_type": "display_data"
    },
    {
     "data": {
      "image/png": "[encoded data removed]",
      "text/plain": [
       "<Figure size 640x480 with 1 Axes>"
      ]
     },
     "metadata": {},
     "output_type": "display_data"
    }
   ],
   "source": [
    "# Plot a boxplot to visualize the distribution of the monthly call duration\n",
    "\n",
    "plt.figure(figsize=(8,6))\n",
    "\n",
    "monthly.boxplot(column=\"minutes_used\", by=\"plan\", grid=False)\n",
    "\n",
    "plt.title(\"Distribution of Monthly Call Duration by Plan\")\n",
    "plt.suptitle(\"\")  # set to empty \n",
    "plt.xlabel(\"Plan\")\n",
    "plt.ylabel(\"Minutes Used\")\n",
    "plt.tight_layout()\n",
    "plt.show()\n"
   ]
  },
  {
   "cell_type": "markdown",
   "metadata": {},
   "source": [
    "**Observations**\n",
    "Both plans look very similar in median (~400 min) and spread.\n",
    "\n",
    "There are lots of outliers above 1000 min, heavy callers, much higher than the “typical” range.\n",
    "\n",
    "Surf and ultimate both have outliers, so extreme usage isn’t tied to one plan."
   ]
  },
  {
   "cell_type": "markdown",
   "metadata": {},
   "source": [
    "### Messages"
   ]
  },
  {
   "cell_type": "code",
   "execution_count": 31,
   "metadata": {},
   "outputs": [
    {
     "data": {
      "image/png": "[encoded data removed]",
      "text/plain": [
       "<Figure size 1200x600 with 1 Axes>"
      ]
     },
     "metadata": {},
     "output_type": "display_data"
    }
   ],
   "source": [
    "# Compare the number of messages users of each plan tend to send each month\n",
    "\n",
    "avg_messages = (\n",
    "    monthly.groupby([\"month\", \"plan\"])[\"messages_sent\"]\n",
    "      .mean()\n",
    "      .reset_index()\n",
    ")\n",
    "\n",
    "# 2. Pivot to make months x-axis, plans as separate bars\n",
    "pivot_table = avg_messages.pivot(index=\"month\", columns=\"plan\", values=\"messages_sent\")\n",
    "\n",
    "# 3. Plot bar chart\n",
    "pivot_table.plot(kind=\"bar\", figsize=(12,6))\n",
    "\n",
    "plt.title(\"Average Number of Messages per Plan per Month\")\n",
    "plt.xlabel(\"Month\")\n",
    "plt.ylabel(\"Average Messages Sent\")\n",
    "plt.xticks(rotation=45)\n",
    "plt.legend(title=\"Plan\")\n",
    "plt.tight_layout()\n",
    "plt.show()"
   ]
  },
  {
   "cell_type": "markdown",
   "metadata": {},
   "source": [
    "**Observations**\n",
    "\n",
    "Both plans show steady growth in average messages sent per month across 2018.\n",
    "\n",
    "The ultimate plan is consistently higher than surf.\n",
    "\n",
    "The gap is visible from the beginning (about 15 vs 25 in January) and remains through December ( about 38 vs 45). This suggests that ultimate users send more messages on average.\n",
    "\n",
    "Surf users nearly quadrupled from ~10 to ~38. Ultimate users almost doubled from ~25 to ~45.\n",
    "\n",
    "The rate of growth is actually sharper for surf, but ultimate remains ahead throughout."
   ]
  },
  {
   "cell_type": "code",
   "execution_count": 32,
   "metadata": {},
   "outputs": [
    {
     "data": {
      "image/png": "[encoded data removed]",
      "text/plain": [
       "<Figure size 1000x600 with 1 Axes>"
      ]
     },
     "metadata": {},
     "output_type": "display_data"
    }
   ],
   "source": [
    "# Messages sent per plan\n",
    "\n",
    "# Separate the data\n",
    "surf_msgs = monthly[monthly['plan'] == 'surf']['messages_sent']\n",
    "ult_msgs = monthly[monthly['plan'] == 'ultimate']['messages_sent']\n",
    "\n",
    "plt.figure(figsize=(10,6))\n",
    "plt.hist(surf_msgs, bins=30, alpha=0.6, label='surf')\n",
    "plt.hist(ult_msgs, bins=30, alpha=0.6, label='ultimate')\n",
    "plt.title(\"Distribution of Messages Sent per Plan\")\n",
    "plt.xlabel(\"Messages Sent\")\n",
    "plt.ylabel(\"Number of Users\")\n",
    "plt.legend()\n",
    "plt.show()"
   ]
  },
  {
   "cell_type": "markdown",
   "metadata": {},
   "source": [
    "**Observations**\n",
    "\n",
    "Most customers don’t rely heavily on texting (maybe they prefer calls or data-based messaging apps).\n",
    "\n",
    "Ultimate users show a higher share of people sending 50+ messages, which suggests that having more included messages (or unlimited) encourages heavier texting.\n",
    "\n",
    "Surf could generate more overage fees from the small group of heavier texters"
   ]
  },
  {
   "cell_type": "code",
   "execution_count": 33,
   "metadata": {},
   "outputs": [
    {
     "data": {
      "text/plain": [
       "<Figure size 800x600 with 0 Axes>"
      ]
     },
     "metadata": {},
     "output_type": "display_data"
    },
    {
     "data": {
      "image/png": "[encoded data removed]",
      "text/plain": [
       "<Figure size 640x480 with 1 Axes>"
      ]
     },
     "metadata": {},
     "output_type": "display_data"
    }
   ],
   "source": [
    "# Compare messages by plan box chart\n",
    "\n",
    "plt.figure(figsize=(8,6))\n",
    "monthly.boxplot(column='messages_sent', by='plan')\n",
    "plt.title(\"Distribution of Monthly Messages by Plan\")\n",
    "plt.suptitle(\"\")  # remove default subtitle\n",
    "plt.xlabel(\"Plan\")\n",
    "plt.ylabel(\"Messages Sent\")\n",
    "plt.show()"
   ]
  },
  {
   "cell_type": "markdown",
   "metadata": {},
   "source": [
    " "
   ]
  },
  {
   "cell_type": "markdown",
   "metadata": {},
   "source": [
    "**Observations**\n",
    "\n",
    "Surf median: ~15 messages/month vs Ultimate median: ~25–30 messages/month. So ultimate users send more messages on average.\n",
    "\n",
    "Many outliers exist for both plans, especially above 100–150 messages.\n",
    "\n",
    "Outliers are more common in surf likely because some users exceed their limited allowance."
   ]
  },
  {
   "cell_type": "markdown",
   "metadata": {},
   "source": [
    "### Internet"
   ]
  },
  {
   "cell_type": "code",
   "execution_count": 34,
   "metadata": {},
   "outputs": [
    {
     "data": {
      "image/png": "[encoded data removed]",
      "text/plain": [
       "<Figure size 800x600 with 1 Axes>"
      ]
     },
     "metadata": {},
     "output_type": "display_data"
    }
   ],
   "source": [
    "# Compare the amount of internet traffic consumed by users per plan\n",
    "\n",
    "avg_internet = (\n",
    "    monthly.groupby(\"plan\")[\"gb_used\"]\n",
    "      .mean()\n",
    "      .reset_index()\n",
    ")\n",
    "\n",
    "plt.figure(figsize=(8,6))\n",
    "plt.bar(avg_internet[\"plan\"], avg_internet[\"gb_used\"], color=[\"skyblue\", \"orange\"])\n",
    "plt.title(\"Average Internet Usage per Plan\")\n",
    "plt.xlabel(\"Plan\")\n",
    "plt.ylabel(\"Average GB Used per User\")\n",
    "plt.tight_layout()\n",
    "plt.show()"
   ]
  },
  {
   "cell_type": "markdown",
   "metadata": {},
   "source": [
    "**Observations**\n",
    "Surf users: ~16 GB/month. Ultimate users: ~17 GB/month. The difference is small — ultimate users consume only slightly more.\n",
    "Unlike SMS, where ultimate clearly drove higher usage, internet traffic seems to be less affected by the plan.\n",
    "\n",
    "Surf users are in average paying extra for internet each month "
   ]
  },
  {
   "cell_type": "code",
   "execution_count": 35,
   "metadata": {},
   "outputs": [
    {
     "data": {
      "image/png": "[encoded data removed]",
      "text/plain": [
       "<Figure size 1000x600 with 1 Axes>"
      ]
     },
     "metadata": {},
     "output_type": "display_data"
    }
   ],
   "source": [
    "#Compare GB user per plan\n",
    "\n",
    "surf_data = monthly[monthly['plan'] == 'surf']['gb_used']\n",
    "ult_data = monthly[monthly['plan'] == 'ultimate']['gb_used']\n",
    "\n",
    "plt.figure(figsize=(10,6))\n",
    "plt.hist(surf_data, bins=30, alpha=0.6, label='surf')\n",
    "plt.hist(ult_data, bins=30, alpha=0.6, label='ultimate')\n",
    "plt.title(\"Distribution of Internet Traffic by Plan\")\n",
    "plt.xlabel(\"GB Used\")\n",
    "plt.ylabel(\"Number of Users\")\n",
    "plt.legend()\n",
    "plt.show()"
   ]
  },
  {
   "cell_type": "markdown",
   "metadata": {},
   "source": [
    "**Observations**\n",
    "\n",
    "Big spike right around 15–16 GB. Many Surf users are hitting (and exceeding) the cap, which means they’re paying overage fees\n",
    "\n",
    "They use similar amounts of data on average, but are well under the 30 GB allowance.\n",
    "\n",
    "That means most ultimate customers are comfortably within their plan, rarely paying overages.\n",
    "\n",
    "Both Surf and Ultimate have outliers up to 40+ GB, even 60–70 GB.\n",
    "\n",
    "These heavy data users would rack up significant overage charges on Surf, but Ultimate absorbs much of it (cheaper overages and higher allowance)."
   ]
  },
  {
   "cell_type": "code",
   "execution_count": 36,
   "metadata": {},
   "outputs": [
    {
     "data": {
      "image/png": "[encoded data removed]",
      "text/plain": [
       "<Figure size 800x600 with 1 Axes>"
      ]
     },
     "metadata": {},
     "output_type": "display_data"
    }
   ],
   "source": [
    "#Total internet traffic per plan\n",
    "total_data = monthly.groupby('plan')['gb_used'].sum()\n",
    "\n",
    "total_data.plot(kind='bar', figsize=(8,6))\n",
    "plt.title(\"Total Internet Traffic by Plan (2018)\")\n",
    "plt.xlabel(\"Plan\")\n",
    "plt.ylabel(\"Total GB Used\")\n",
    "plt.show()"
   ]
  },
  {
   "cell_type": "markdown",
   "metadata": {},
   "source": [
    "**Observations**\n",
    "\n",
    "Surf users consumed about 25,000 GB total. Ultimate users consumed about 12,000 GB total.\n",
    "\n",
    "Surf customers used roughly double the amount of internet traffic compared to Ultimate customers. This isn’t because Surf users are heavier internet consumers individually, It’s because there are more Surf customers than Ultimate customers in the dataset.\n",
    "\n"
   ]
  },
  {
   "cell_type": "markdown",
   "metadata": {},
   "source": [
    " "
   ]
  },
  {
   "cell_type": "markdown",
   "metadata": {},
   "source": [
    "## Revenue"
   ]
  },
  {
   "cell_type": "markdown",
   "metadata": {},
   "source": [
    "[Likewise you have studied the user behaviour, statistically describe the revenue between the plans.]"
   ]
  },
  {
   "cell_type": "code",
   "execution_count": 37,
   "metadata": {},
   "outputs": [
    {
     "data": {
      "image/png": "[encoded data removed]",
      "text/plain": [
       "<Figure size 1200x600 with 1 Axes>"
      ]
     },
     "metadata": {},
     "output_type": "display_data"
    }
   ],
   "source": [
    "# Compare average montly revenue per plan\n",
    "\n",
    "avg_rev = monthly.groupby(['month','plan'])['revenue'].mean().unstack()\n",
    "\n",
    "avg_rev.plot(kind='bar', figsize=(12,6))\n",
    "plt.title(\"Average Monthly Revenue per Plan\")\n",
    "plt.xlabel(\"Month\")\n",
    "plt.ylabel(\"Average Revenue ($)\")\n",
    "plt.legend(title=\"Plan\")\n",
    "plt.show()"
   ]
  },
  {
   "cell_type": "markdown",
   "metadata": {},
   "source": [
    "**Observations**\n",
    "\n",
    "Ultimate: Stays very steady around $70–74 across all months\n",
    "\n",
    "Surf: Starts low (~$20 in Jan) but steadily climbs across the year to ~70 by December.\n",
    "\n",
    "By the end of the year, Surf’s average revenue per user is nearly equal to Ultimate.\n",
    "\n",
    "The difference is that Surf revenue is volatile and unpredictable, while Ultimate is flat and reliable."
   ]
  },
  {
   "cell_type": "code",
   "execution_count": 38,
   "metadata": {},
   "outputs": [
    {
     "data": {
      "image/png": "[encoded data removed]",
      "text/plain": [
       "<Figure size 1000x600 with 1 Axes>"
      ]
     },
     "metadata": {},
     "output_type": "display_data"
    }
   ],
   "source": [
    "#Revenue distribution\n",
    "surf_rev = monthly[monthly['plan'] == 'surf']['revenue']\n",
    "ult_rev  = monthly[monthly['plan'] == 'ultimate']['revenue']\n",
    "\n",
    "plt.figure(figsize=(10,6))\n",
    "plt.hist(surf_rev, bins=30, alpha=0.6, label='surf')\n",
    "plt.hist(ult_rev, bins=30, alpha=0.6, label='ultimate')\n",
    "plt.title(\"Revenue Distribution by Plan\")\n",
    "plt.xlabel(\"Monthly Revenue ($)\")\n",
    "plt.ylabel(\"Number of Users\")\n",
    "plt.legend()\n",
    "plt.show()"
   ]
  },
  {
   "cell_type": "markdown",
   "metadata": {},
   "source": [
    "**Observations**\n",
    "\n",
    "Surf: Spike at $20 for users who stayed within their plan limits. Long tail stretching to the right. Due to the overages. \n",
    "\n",
    "Ultimate: Almost all Ultimate users are tightly clustered around $70–75, one bin for the most part and very little variation compared to Surf."
   ]
  },
  {
   "cell_type": "markdown",
   "metadata": {},
   "source": [
    "## Test statistical hypotheses"
   ]
  },
  {
   "cell_type": "markdown",
   "metadata": {},
   "source": [
    "We will use Welch's t-test (two-sided) for mean comparisons because group variances and sizes differ.\n",
    "\n",
    "Let ( \\alpha = 0.05 ).\n",
    "\n",
    "Plans:\n",
    "\n",
    "1) Plan comparison (Surf vs Ultimate)\n",
    "\n",
    "Question: “Does average monthly revenue differ between Surf and Ultimate users?”\n",
    "\n",
    "Null (H₀): μ_surf = μ_ultimate (no difference in mean revenue)\n",
    "\n",
    "Alt (H₁): μ_surf ≠ μ_ultimate (means differ)\n",
    "\n",
    "Region (NY-NJ vs others):\n",
    "\n",
    "2) Region comparison (NY–NJ vs other regions)\n",
    "\n",
    "Question: “Does average monthly revenue differ between NY–NJ users and everyone else?”\n",
    "\n",
    "Null (H₀): μ_NY-NJ = μ_other\n",
    "\n",
    "Alt (H₁): μ_NY-NJ ≠ μ_other"
   ]
  },
  {
   "cell_type": "code",
   "execution_count": 39,
   "metadata": {},
   "outputs": [
    {
     "name": "stdout",
     "output_type": "stream",
     "text": [
      "Surf vs Ultimate (Welch t-test)\n",
      "n_surf=1545, n_ultimate=713\n",
      "mean_surf=$60.11, mean_ultimate=$72.28\n",
      "mean_diff = mean_surf - mean_ultimate = -12.17\n",
      "95% CI for diff: [-14.97, -9.37]  (df≈1822.2)\n",
      "t=-8.533, p-value=2.953e-17\n"
     ]
    }
   ],
   "source": [
    "# Test the hypotheses plans\n",
    "def welch_ci(mean1, var1, n1, mean2, var2, n2, alpha=0.05):\n",
    "    \"\"\"95% CI (by default) for the difference in means: mean1 - mean2\"\"\"\n",
    "    se = np.sqrt(var1/n1 + var2/n2)\n",
    "    # Welch–Satterthwaite df\n",
    "    df = (var1/n1 + var2/n2)**2 / ((var1**2)/((n1**2)*(n1-1)) + (var2**2)/((n2**2)*(n2-1)))\n",
    "    tcrit = stats.t.ppf(1 - alpha/2, df)\n",
    "    diff = mean1 - mean2\n",
    "    return diff, diff - tcrit*se, diff + tcrit*se, df\n",
    "\n",
    "# Surf Vs Ultimate\n",
    "surf = monthly.loc[monthly['plan'] == 'surf', 'revenue'].dropna()\n",
    "ultimate = monthly.loc[monthly['plan'] == 'ultimate', 'revenue'].dropna()\n",
    "\n",
    "t_stat, p_val = stats.ttest_ind(surf, ultimate, equal_var=False)\n",
    "\n",
    "m1, v1, n1 = surf.mean(), surf.var(ddof=1), surf.shape[0]\n",
    "m2, v2, n2 = ultimate.mean(), ultimate.var(ddof=1), ultimate.shape[0]\n",
    "diff, lo, hi, df = welch_ci(m1, v1, n1, m2, v2, n2, alpha=0.05)\n",
    "\n",
    "print(\"Surf vs Ultimate (Welch t-test)\")\n",
    "print(f\"n_surf={n1}, n_ultimate={n2}\")\n",
    "print(f\"mean_surf=${m1:0.2f}, mean_ultimate=${m2:0.2f}\")\n",
    "print(f\"mean_diff = mean_surf - mean_ultimate = {diff:0.2f}\")\n",
    "print(f\"95% CI for diff: [{lo:0.2f}, {hi:0.2f}]  (df≈{df:0.1f})\")\n",
    "print(f\"t={t_stat:0.3f}, p-value={p_val:0.4g}\")\n"
   ]
  },
  {
   "cell_type": "markdown",
   "metadata": {},
   "source": [
    "**Observation**\n",
    "At α = 0.05 (and even stricter α = 0.01 or Bonferroni α = 0.025), we reject the null hypothesis.\n",
    "\n",
    "There is strong evidence that the average revenue differs between Surf and Ultimate plans.\n",
    "\n",
    "Practically: Ultimate generates about $12 more revenue per user on average."
   ]
  },
  {
   "cell_type": "code",
   "execution_count": 40,
   "metadata": {},
   "outputs": [
    {
     "name": "stdout",
     "output_type": "stream",
     "text": [
      "\n",
      "NY–NJ vs Other Regions (Welch t-test)\n",
      "n_ny_nj=506, n_other=1752\n",
      "mean_ny_nj=$61.49, mean_other=$64.66\n",
      "mean_diff = mean_ny_nj - mean_other = -3.17\n",
      "95% CI for diff: [-7.63, 1.29]  (df≈819.9)\n",
      "t=-1.394, p-value=0.1638\n"
     ]
    }
   ],
   "source": [
    "# Test the hypotheses Cities\n",
    "\n",
    "# Define NY–NJ users. \n",
    "ny_nj_mask = monthly['city'].str.contains(r'NY|New York|Jersey|NJ', case=False, na=False)\n",
    "\n",
    "# Find \n",
    "ny_nj = monthly.loc[ny_nj_mask, 'revenue'].dropna()\n",
    "other = monthly.loc[~ny_nj_mask, 'revenue'].dropna()\n",
    "\n",
    "t_stat2, p_val2 = stats.ttest_ind(ny_nj, other, equal_var=False)\n",
    "\n",
    "m1b, v1b, n1b = ny_nj.mean(), ny_nj.var(ddof=1), ny_nj.shape[0]\n",
    "m2b, v2b, n2b = other.mean(), other.var(ddof=1), other.shape[0]\n",
    "diff2, lo2, hi2, df2 = welch_ci(m1b, v1b, n1b, m2b, v2b, n2b, alpha=0.05)\n",
    "\n",
    "print(\"\\nNY–NJ vs Other Regions (Welch t-test)\")\n",
    "print(f\"n_ny_nj={n1b}, n_other={n2b}\")\n",
    "print(f\"mean_ny_nj=${m1b:0.2f}, mean_other=${m2b:0.2f}\")\n",
    "print(f\"mean_diff = mean_ny_nj - mean_other = {diff2:0.2f}\")\n",
    "print(f\"95% CI for diff: [{lo2:0.2f}, {hi2:0.2f}]  (df≈{df2:0.1f})\")\n",
    "print(f\"t={t_stat2:0.3f}, p-value={p_val2:0.4g}\")"
   ]
  },
  {
   "cell_type": "markdown",
   "metadata": {},
   "source": [
    "**Observations**\n",
    "\n",
    "At α = 0.05 (and stricter α = 0.025 with Bonferroni correction), the p-value is much larger than alpha.\n",
    "\n",
    "We fail to reject the null hypothesis.\n",
    "\n",
    "There is no statistical evidence that average revenue differs between NY–NJ users and users from other regions.\n",
    "\n",
    "Practically: While NY–NJ users spent about $3 less on average, the variation is large enough that this difference could easily be due to chance."
   ]
  },
  {
   "cell_type": "markdown",
   "metadata": {},
   "source": [
    "## General conclusion\n",
    "\n",
    "Calls: Similar usage across plans, not a major revenue driver.\n",
    "\n",
    "Messages: Ultimate users send more, but Surf outliers generate extra fees.\n",
    "\n",
    "Internet: The strongest differentiator. Surf users often exceed their cap, leading to higher but volatile revenue, while Ultimate users stay under their larger cap.\n",
    "\n",
    "Revenue: Surf starts cheap but climbs with overages; Ultimate is expensive but predictable.\n",
    "\n",
    "Hypotheses:\n",
    "\n",
    "Plan choice does affect revenue. Ultimate over Surf.\n",
    "\n",
    "Region does not affect revenue.\n",
    "\n",
    "Final takeaway:\n",
    "The company earns higher, stable revenue from Ultimate users, but Surf users contribute significantly through data overages. For customer satisfaction, Surf risks “bill shock,” while Ultimate offers peace of mind. From a business perspective, both plans are profitable, but in different ways: Surf through unpredictable overage fees, and Ultimate through consistent subscription revenue."
   ]
  }
 ],
 "metadata": {
  "ExecuteTimeLog": [
   {
    "duration": 828,
    "start_time": "2021-11-16T09:21:11.304Z"
   },
   {
    "duration": 893,
    "start_time": "2021-11-16T09:21:17.728Z"
   },
   {
    "duration": 1150,
    "start_time": "2021-11-16T09:21:29.568Z"
   },
   {
    "duration": 3,
    "start_time": "2021-11-16T09:24:14.495Z"
   },
   {
    "duration": 120,
    "start_time": "2021-11-16T09:24:46.630Z"
   },
   {
    "duration": 3,
    "start_time": "2021-11-16T09:28:27.882Z"
   },
   {
    "duration": 4,
    "start_time": "2021-11-16T09:29:54.281Z"
   },
   {
    "duration": 3,
    "start_time": "2021-11-16T09:30:45.936Z"
   },
   {
    "duration": 4,
    "start_time": "2021-11-16T09:31:06.300Z"
   },
   {
    "duration": 113,
    "start_time": "2021-11-16T09:31:37.208Z"
   },
   {
    "duration": 143,
    "start_time": "2021-11-16T09:31:48.656Z"
   },
   {
    "duration": 98,
    "start_time": "2021-11-16T09:31:55.678Z"
   },
   {
    "duration": 3,
    "start_time": "2021-11-16T09:32:08.535Z"
   },
   {
    "duration": 111,
    "start_time": "2021-11-16T09:32:10.120Z"
   },
   {
    "duration": 3,
    "start_time": "2021-11-16T09:32:15.732Z"
   },
   {
    "duration": 4,
    "start_time": "2021-11-16T09:32:29.423Z"
   },
   {
    "duration": 3,
    "start_time": "2021-11-16T10:03:03.074Z"
   },
   {
    "duration": 3,
    "start_time": "2021-11-16T10:10:01.288Z"
   },
   {
    "duration": 3,
    "start_time": "2021-11-16T10:10:46.923Z"
   },
   {
    "duration": 121,
    "start_time": "2021-11-16T10:37:46.494Z"
   },
   {
    "duration": 125,
    "start_time": "2021-11-16T10:38:20.632Z"
   },
   {
    "duration": 112,
    "start_time": "2021-11-16T10:46:53.001Z"
   },
   {
    "duration": 110,
    "start_time": "2021-11-16T10:48:25.775Z"
   },
   {
    "duration": 3,
    "start_time": "2021-11-16T10:50:18.720Z"
   },
   {
    "duration": 4,
    "start_time": "2021-11-16T10:50:37.649Z"
   },
   {
    "duration": 2,
    "start_time": "2021-11-16T10:50:51.884Z"
   },
   {
    "duration": 3,
    "start_time": "2021-11-16T10:51:56.237Z"
   },
   {
    "duration": 101,
    "start_time": "2021-11-16T10:53:13.791Z"
   },
   {
    "duration": 3,
    "start_time": "2021-11-16T10:55:59.186Z"
   },
   {
    "duration": 3,
    "start_time": "2021-11-16T10:56:10.751Z"
   },
   {
    "duration": 3,
    "start_time": "2021-11-16T10:56:49.038Z"
   },
   {
    "duration": 3,
    "start_time": "2021-11-16T10:56:49.174Z"
   },
   {
    "duration": 4,
    "start_time": "2021-11-16T10:56:49.414Z"
   },
   {
    "duration": 3,
    "start_time": "2021-11-16T10:56:49.680Z"
   },
   {
    "duration": 3,
    "start_time": "2021-11-16T10:56:50.370Z"
   },
   {
    "duration": 114,
    "start_time": "2021-11-16T10:59:34.518Z"
   },
   {
    "duration": 3,
    "start_time": "2021-11-16T11:01:41.201Z"
   },
   {
    "duration": 116,
    "start_time": "2021-11-16T11:01:48.754Z"
   },
   {
    "duration": 3,
    "start_time": "2021-11-16T11:02:16.685Z"
   },
   {
    "duration": 3,
    "start_time": "2021-11-16T11:02:19.479Z"
   },
   {
    "duration": 3,
    "start_time": "2021-11-16T11:02:47.067Z"
   },
   {
    "duration": 3,
    "start_time": "2021-11-16T11:02:49.353Z"
   },
   {
    "duration": 3,
    "start_time": "2021-11-16T11:03:07.835Z"
   },
   {
    "duration": 3,
    "start_time": "2021-11-16T11:03:07.953Z"
   },
   {
    "duration": 112,
    "start_time": "2021-11-16T11:07:52.072Z"
   },
   {
    "duration": 187,
    "start_time": "2021-11-16T11:09:23.468Z"
   },
   {
    "duration": 4,
    "start_time": "2021-11-16T11:10:01.455Z"
   },
   {
    "duration": 3,
    "start_time": "2021-11-16T11:10:05.069Z"
   },
   {
    "duration": 4,
    "start_time": "2021-11-16T11:10:13.376Z"
   },
   {
    "duration": 3,
    "start_time": "2021-11-16T11:10:14.434Z"
   },
   {
    "duration": 3,
    "start_time": "2021-11-16T11:10:22.853Z"
   },
   {
    "duration": 4,
    "start_time": "2021-11-16T11:27:29.279Z"
   },
   {
    "duration": 4,
    "start_time": "2021-11-16T11:29:08.919Z"
   },
   {
    "duration": 118,
    "start_time": "2021-11-16T11:29:46.703Z"
   },
   {
    "duration": 437,
    "start_time": "2021-11-16T11:36:02.181Z"
   },
   {
    "duration": 157,
    "start_time": "2021-11-16T11:36:14.388Z"
   },
   {
    "duration": 207,
    "start_time": "2021-11-16T11:47:15.898Z"
   },
   {
    "duration": 3,
    "start_time": "2021-11-16T11:53:52.092Z"
   },
   {
    "duration": 3,
    "start_time": "2021-11-16T11:53:52.236Z"
   },
   {
    "duration": 3,
    "start_time": "2021-11-16T11:59:12.005Z"
   },
   {
    "duration": 112,
    "start_time": "2021-11-16T12:00:33.446Z"
   },
   {
    "duration": 3,
    "start_time": "2021-11-16T12:02:14.453Z"
   },
   {
    "duration": 3,
    "start_time": "2021-11-16T12:02:39.512Z"
   },
   {
    "duration": 106,
    "start_time": "2021-11-16T12:03:03.460Z"
   },
   {
    "duration": 3,
    "start_time": "2021-11-17T20:37:21.139Z"
   },
   {
    "duration": 3,
    "start_time": "2021-11-17T20:37:22.229Z"
   },
   {
    "duration": 3,
    "start_time": "2021-11-17T20:38:38.806Z"
   },
   {
    "duration": 3,
    "start_time": "2021-11-17T20:38:41.958Z"
   },
   {
    "duration": 3,
    "start_time": "2021-11-17T20:43:46.551Z"
   },
   {
    "duration": 4,
    "start_time": "2021-11-17T20:58:21.835Z"
   },
   {
    "duration": 3,
    "start_time": "2021-11-17T20:59:21.872Z"
   },
   {
    "duration": 4,
    "start_time": "2021-11-17T20:59:45.352Z"
   },
   {
    "duration": 4,
    "start_time": "2021-11-17T20:59:49.646Z"
   },
   {
    "duration": 159,
    "start_time": "2021-11-17T21:02:26.949Z"
   },
   {
    "duration": 3,
    "start_time": "2021-11-17T21:03:53.461Z"
   },
   {
    "duration": 3,
    "start_time": "2021-11-17T21:03:53.694Z"
   },
   {
    "duration": 3,
    "start_time": "2021-11-17T21:05:28.145Z"
   },
   {
    "duration": 116,
    "start_time": "2021-11-17T21:05:57.787Z"
   },
   {
    "duration": 3,
    "start_time": "2021-11-17T21:06:37.993Z"
   },
   {
    "duration": 3,
    "start_time": "2021-11-17T21:06:38.261Z"
   },
   {
    "duration": 3,
    "start_time": "2021-11-17T21:11:54.358Z"
   },
   {
    "duration": 3,
    "start_time": "2021-11-17T21:12:43.846Z"
   },
   {
    "duration": 4,
    "start_time": "2021-11-17T21:13:08.773Z"
   },
   {
    "duration": 3,
    "start_time": "2021-11-17T21:14:44.441Z"
   },
   {
    "duration": 3,
    "start_time": "2021-11-17T21:15:42.059Z"
   },
   {
    "duration": 4,
    "start_time": "2021-11-17T21:15:51.995Z"
   },
   {
    "duration": 3,
    "start_time": "2021-11-17T21:15:53.923Z"
   },
   {
    "duration": 3,
    "start_time": "2021-11-17T21:15:55.282Z"
   },
   {
    "duration": 3,
    "start_time": "2021-11-17T21:16:28.492Z"
   },
   {
    "duration": 3,
    "start_time": "2021-11-17T21:16:32.603Z"
   },
   {
    "duration": 3,
    "start_time": "2021-11-17T21:17:06.941Z"
   },
   {
    "duration": 98,
    "start_time": "2021-11-17T21:18:05.733Z"
   },
   {
    "duration": 4,
    "start_time": "2021-11-17T21:21:35.255Z"
   },
   {
    "duration": 3,
    "start_time": "2021-11-17T21:21:37.804Z"
   },
   {
    "duration": 4,
    "start_time": "2021-11-17T21:23:06.071Z"
   },
   {
    "duration": 3,
    "start_time": "2021-11-17T21:23:24.799Z"
   },
   {
    "duration": 3,
    "start_time": "2021-11-17T21:23:32.591Z"
   },
   {
    "duration": 98,
    "start_time": "2021-11-17T21:28:31.559Z"
   },
   {
    "duration": 3,
    "start_time": "2021-11-17T21:28:45.448Z"
   },
   {
    "duration": 3,
    "start_time": "2021-11-17T21:29:17.303Z"
   },
   {
    "duration": 3,
    "start_time": "2021-11-17T21:29:29.617Z"
   },
   {
    "duration": 3,
    "start_time": "2021-11-17T21:29:32.681Z"
   },
   {
    "duration": 3,
    "start_time": "2021-11-17T21:36:11.474Z"
   },
   {
    "duration": 3,
    "start_time": "2021-11-17T21:36:14.791Z"
   },
   {
    "duration": 3,
    "start_time": "2021-11-17T21:36:53.943Z"
   },
   {
    "duration": 3,
    "start_time": "2021-11-17T21:36:56.165Z"
   },
   {
    "duration": 4,
    "start_time": "2021-11-17T21:37:16.590Z"
   },
   {
    "duration": 3,
    "start_time": "2021-11-17T21:37:22.702Z"
   },
   {
    "duration": 4,
    "start_time": "2021-11-17T21:38:03.479Z"
   },
   {
    "duration": 3,
    "start_time": "2021-11-17T21:38:08.601Z"
   },
   {
    "duration": 3,
    "start_time": "2021-11-17T21:38:12.928Z"
   },
   {
    "duration": 3,
    "start_time": "2021-11-17T21:38:48.896Z"
   },
   {
    "duration": 2,
    "start_time": "2021-11-17T21:38:49.171Z"
   },
   {
    "duration": 4,
    "start_time": "2021-11-17T21:39:57.889Z"
   },
   {
    "duration": 3,
    "start_time": "2021-11-17T21:39:58.057Z"
   },
   {
    "duration": 3,
    "start_time": "2021-11-17T21:41:20.108Z"
   },
   {
    "duration": 3,
    "start_time": "2021-11-17T21:41:20.629Z"
   },
   {
    "duration": 3,
    "start_time": "2021-11-17T21:42:49.136Z"
   },
   {
    "duration": 3,
    "start_time": "2021-11-17T21:43:15.137Z"
   },
   {
    "duration": 4,
    "start_time": "2021-11-17T21:43:16.766Z"
   },
   {
    "duration": 4,
    "start_time": "2021-11-17T21:43:31.711Z"
   },
   {
    "duration": 3,
    "start_time": "2021-11-17T21:43:36.312Z"
   },
   {
    "duration": 4,
    "start_time": "2021-11-17T21:45:08.825Z"
   },
   {
    "duration": 4,
    "start_time": "2021-11-17T21:45:10.119Z"
   },
   {
    "duration": 4,
    "start_time": "2021-11-17T21:45:13.748Z"
   },
   {
    "duration": 3,
    "start_time": "2021-11-17T21:45:22.219Z"
   },
   {
    "duration": 3,
    "start_time": "2021-11-17T21:45:33.412Z"
   },
   {
    "duration": 2,
    "start_time": "2021-11-17T21:46:01.885Z"
   },
   {
    "duration": 3,
    "start_time": "2021-11-17T21:46:03.628Z"
   },
   {
    "duration": 107,
    "start_time": "2021-11-17T21:47:32.512Z"
   },
   {
    "duration": 103,
    "start_time": "2021-11-17T21:50:36.243Z"
   },
   {
    "duration": 3,
    "start_time": "2021-11-18T06:28:31.440Z"
   },
   {
    "duration": 3,
    "start_time": "2021-11-18T06:29:00.168Z"
   },
   {
    "duration": 3,
    "start_time": "2021-11-18T06:31:27.008Z"
   },
   {
    "duration": 2,
    "start_time": "2021-11-18T06:35:34.288Z"
   },
   {
    "duration": 2,
    "start_time": "2021-11-18T06:38:04.527Z"
   }
  ],
  "kernelspec": {
   "display_name": "Python 3 (ipykernel)",
   "language": "python",
   "name": "python3"
  },
  "language_info": {
   "codemirror_mode": {
    "name": "ipython",
    "version": 3
   },
   "file_extension": ".py",
   "mimetype": "text/x-python",
   "name": "python",
   "nbconvert_exporter": "python",
   "pygments_lexer": "ipython3",
   "version": "3.9.23"
  },
  "toc": {
   "base_numbering": 1,
   "nav_menu": {},
   "number_sections": true,
   "sideBar": true,
   "skip_h1_title": false,
   "title_cell": "Table of Contents",
   "title_sidebar": "Contents",
   "toc_cell": false,
   "toc_position": {},
   "toc_section_display": true,
   "toc_window_display": true
  }
 },
 "nbformat": 4,
 "nbformat_minor": 4
}
