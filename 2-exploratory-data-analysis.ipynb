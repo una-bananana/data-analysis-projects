{
 "cells": [
  {
   "cell_type": "code",
   "execution_count": 1,
   "id": "ee4fbad1-05b7-430a-95f2-ccd9e09888a7",
   "metadata": {
    "id": "dafcfda4-03ec-40b7-9a59-6e21ad6a2447"
   },
   "outputs": [],
   "source": [
    "# Instacart Market Basket Analysis"
   ]
  },
  {
   "cell_type": "markdown",
   "id": "bffd76b4-3c6d-43ef-be84-183470751940",
   "metadata": {},
   "source": [
    "\n",
    "<b> Introduction</b>\n",
    "\n",
    "This project explores customer purchasing behavior using a public dataset from Instacart, an online grocery delivery service. We aim to uncover patterns that shed light on when people order, what they order, and how they shop. Specifically, we investigate:\n",
    "\n",
    "\n",
    "-What time of day orders are typically placed\n",
    "\n",
    "\n",
    "-Which products are most commonly purchased and reordered\n",
    "\n",
    "\n",
    "-How items are added to the cart—i.e., what comes first and what follows\n",
    "\n",
    "\n",
    "-And trends in order frequency per user\n",
    "\n",
    "\n",
    "Through this analysis, we gain insights into consumer habits that could help optimize recommendations, inventory management, and marketing strategies for e-commerce retailers.\n",
    "</div\n",
    "\n"
   ]
  },
  {
   "cell_type": "markdown",
   "id": "7c513406-9b90-479c-ab2f-a02f79ade6fc",
   "metadata": {
    "id": "7c513406-9b90-479c-ab2f-a02f79ade6fc"
   },
   "source": [
    "## Importing the required libraries"
   ]
  },
  {
   "cell_type": "code",
   "execution_count": 2,
   "id": "fbf1adab",
   "metadata": {
    "id": "fbf1adab"
   },
   "outputs": [],
   "source": [
    "# Import the libraries you'll need for this analysis\n",
    "import pandas as pd\n",
    "import matplotlib.pyplot as plt"
   ]
  },
  {
   "cell_type": "code",
   "execution_count": 3,
   "id": "fe188ef3-27b2-4825-b955-232cdd326307",
   "metadata": {
    "id": "fe188ef3-27b2-4825-b955-232cdd326307"
   },
   "outputs": [],
   "source": [
    "# Load the datasets\n",
    "# Note: These files use semicolon (;) as the separator instead of comma\n",
    "orders         = pd.read_csv('/datasets/instacart_orders.csv', sep=';')\n",
    "products       = pd.read_csv('/datasets/products.csv', sep=';')\n",
    "departments    = pd.read_csv('/datasets/departments.csv', sep=';')\n",
    "aisles         = pd.read_csv('/datasets/aisles.csv', sep=';')\n",
    "order_products = pd.read_csv('/datasets/order_products.csv', sep=';')"
   ]
  },
  {
   "cell_type": "markdown",
   "id": "9a38987c-bf93-4219-b61a-d31781438c8e",
   "metadata": {
    "id": "9a38987c-bf93-4219-b61a-d31781438c8e"
   },
   "source": [
    "## Analyze your data"
   ]
  },
  {
   "cell_type": "markdown",
   "id": "04d4b1a9-a75f-4c89-a297-3a6002b0e53d",
   "metadata": {
    "id": "04d4b1a9-a75f-4c89-a297-3a6002b0e53d"
   },
   "source": [
    "In the cells below, display the datasets using `.info()` and `.head()` to gain insights into their structure and content.\n",
    "\n",
    "- `.info()`: Provides a concise summary of the dataset, including the data types, non-null counts, and memory usage.\n",
    "- `.head()`: Displays the first few rows of the dataset, offering a quick overview of the data values."
   ]
  },
  {
   "cell_type": "code",
   "execution_count": 4,
   "id": "10cc6096-d5ba-40b9-ba42-967e2fb7dec1",
   "metadata": {
    "id": "10cc6096-d5ba-40b9-ba42-967e2fb7dec1"
   },
   "outputs": [
    {
     "data": {
      "text/html": [
       "<div>\n",
       "<style scoped>\n",
       "    .dataframe tbody tr th:only-of-type {\n",
       "        vertical-align: middle;\n",
       "    }\n",
       "\n",
       "    .dataframe tbody tr th {\n",
       "        vertical-align: top;\n",
       "    }\n",
       "\n",
       "    .dataframe thead th {\n",
       "        text-align: right;\n",
       "    }\n",
       "</style>\n",
       "<table border=\"1\" class=\"dataframe\">\n",
       "  <thead>\n",
       "    <tr style=\"text-align: right;\">\n",
       "      <th></th>\n",
       "      <th>order_id</th>\n",
       "      <th>user_id</th>\n",
       "      <th>order_number</th>\n",
       "      <th>order_dow</th>\n",
       "      <th>order_hour_of_day</th>\n",
       "      <th>days_since_prior_order</th>\n",
       "    </tr>\n",
       "  </thead>\n",
       "  <tbody>\n",
       "    <tr>\n",
       "      <th>0</th>\n",
       "      <td>1515936</td>\n",
       "      <td>183418</td>\n",
       "      <td>11</td>\n",
       "      <td>6</td>\n",
       "      <td>13</td>\n",
       "      <td>30.0</td>\n",
       "    </tr>\n",
       "    <tr>\n",
       "      <th>1</th>\n",
       "      <td>1690866</td>\n",
       "      <td>163593</td>\n",
       "      <td>5</td>\n",
       "      <td>5</td>\n",
       "      <td>12</td>\n",
       "      <td>9.0</td>\n",
       "    </tr>\n",
       "    <tr>\n",
       "      <th>2</th>\n",
       "      <td>1454967</td>\n",
       "      <td>39980</td>\n",
       "      <td>4</td>\n",
       "      <td>5</td>\n",
       "      <td>19</td>\n",
       "      <td>2.0</td>\n",
       "    </tr>\n",
       "    <tr>\n",
       "      <th>3</th>\n",
       "      <td>1768857</td>\n",
       "      <td>82516</td>\n",
       "      <td>56</td>\n",
       "      <td>0</td>\n",
       "      <td>20</td>\n",
       "      <td>10.0</td>\n",
       "    </tr>\n",
       "    <tr>\n",
       "      <th>4</th>\n",
       "      <td>3007858</td>\n",
       "      <td>196724</td>\n",
       "      <td>2</td>\n",
       "      <td>4</td>\n",
       "      <td>12</td>\n",
       "      <td>17.0</td>\n",
       "    </tr>\n",
       "    <tr>\n",
       "      <th>...</th>\n",
       "      <td>...</td>\n",
       "      <td>...</td>\n",
       "      <td>...</td>\n",
       "      <td>...</td>\n",
       "      <td>...</td>\n",
       "      <td>...</td>\n",
       "    </tr>\n",
       "    <tr>\n",
       "      <th>478962</th>\n",
       "      <td>3210681</td>\n",
       "      <td>5617</td>\n",
       "      <td>5</td>\n",
       "      <td>1</td>\n",
       "      <td>14</td>\n",
       "      <td>7.0</td>\n",
       "    </tr>\n",
       "    <tr>\n",
       "      <th>478963</th>\n",
       "      <td>3270802</td>\n",
       "      <td>112087</td>\n",
       "      <td>2</td>\n",
       "      <td>3</td>\n",
       "      <td>13</td>\n",
       "      <td>6.0</td>\n",
       "    </tr>\n",
       "    <tr>\n",
       "      <th>478964</th>\n",
       "      <td>885349</td>\n",
       "      <td>82944</td>\n",
       "      <td>16</td>\n",
       "      <td>2</td>\n",
       "      <td>11</td>\n",
       "      <td>6.0</td>\n",
       "    </tr>\n",
       "    <tr>\n",
       "      <th>478965</th>\n",
       "      <td>216274</td>\n",
       "      <td>4391</td>\n",
       "      <td>3</td>\n",
       "      <td>3</td>\n",
       "      <td>8</td>\n",
       "      <td>8.0</td>\n",
       "    </tr>\n",
       "    <tr>\n",
       "      <th>478966</th>\n",
       "      <td>2071924</td>\n",
       "      <td>1730</td>\n",
       "      <td>18</td>\n",
       "      <td>1</td>\n",
       "      <td>14</td>\n",
       "      <td>15.0</td>\n",
       "    </tr>\n",
       "  </tbody>\n",
       "</table>\n",
       "<p>478967 rows × 6 columns</p>\n",
       "</div>"
      ],
      "text/plain": [
       "        order_id  user_id  order_number  order_dow  order_hour_of_day  \\\n",
       "0        1515936   183418            11          6                 13   \n",
       "1        1690866   163593             5          5                 12   \n",
       "2        1454967    39980             4          5                 19   \n",
       "3        1768857    82516            56          0                 20   \n",
       "4        3007858   196724             2          4                 12   \n",
       "...          ...      ...           ...        ...                ...   \n",
       "478962   3210681     5617             5          1                 14   \n",
       "478963   3270802   112087             2          3                 13   \n",
       "478964    885349    82944            16          2                 11   \n",
       "478965    216274     4391             3          3                  8   \n",
       "478966   2071924     1730            18          1                 14   \n",
       "\n",
       "        days_since_prior_order  \n",
       "0                         30.0  \n",
       "1                          9.0  \n",
       "2                          2.0  \n",
       "3                         10.0  \n",
       "4                         17.0  \n",
       "...                        ...  \n",
       "478962                     7.0  \n",
       "478963                     6.0  \n",
       "478964                     6.0  \n",
       "478965                     8.0  \n",
       "478966                    15.0  \n",
       "\n",
       "[478967 rows x 6 columns]"
      ]
     },
     "execution_count": 4,
     "metadata": {},
     "output_type": "execute_result"
    }
   ],
   "source": [
    "# In this cell, type \"orders\" below this line and execute the cell\n",
    "orders\n"
   ]
  },
  {
   "cell_type": "code",
   "execution_count": 5,
   "id": "5130e05e",
   "metadata": {
    "id": "5130e05e"
   },
   "outputs": [
    {
     "data": {
      "text/html": [
       "<div>\n",
       "<style scoped>\n",
       "    .dataframe tbody tr th:only-of-type {\n",
       "        vertical-align: middle;\n",
       "    }\n",
       "\n",
       "    .dataframe tbody tr th {\n",
       "        vertical-align: top;\n",
       "    }\n",
       "\n",
       "    .dataframe thead th {\n",
       "        text-align: right;\n",
       "    }\n",
       "</style>\n",
       "<table border=\"1\" class=\"dataframe\">\n",
       "  <thead>\n",
       "    <tr style=\"text-align: right;\">\n",
       "      <th></th>\n",
       "      <th>product_id</th>\n",
       "      <th>product_name</th>\n",
       "      <th>aisle_id</th>\n",
       "      <th>department_id</th>\n",
       "    </tr>\n",
       "  </thead>\n",
       "  <tbody>\n",
       "    <tr>\n",
       "      <th>0</th>\n",
       "      <td>1</td>\n",
       "      <td>Chocolate Sandwich Cookies</td>\n",
       "      <td>61</td>\n",
       "      <td>19</td>\n",
       "    </tr>\n",
       "    <tr>\n",
       "      <th>1</th>\n",
       "      <td>2</td>\n",
       "      <td>All-Seasons Salt</td>\n",
       "      <td>104</td>\n",
       "      <td>13</td>\n",
       "    </tr>\n",
       "    <tr>\n",
       "      <th>2</th>\n",
       "      <td>3</td>\n",
       "      <td>Robust Golden Unsweetened Oolong Tea</td>\n",
       "      <td>94</td>\n",
       "      <td>7</td>\n",
       "    </tr>\n",
       "    <tr>\n",
       "      <th>3</th>\n",
       "      <td>4</td>\n",
       "      <td>Smart Ones Classic Favorites Mini Rigatoni Wit...</td>\n",
       "      <td>38</td>\n",
       "      <td>1</td>\n",
       "    </tr>\n",
       "    <tr>\n",
       "      <th>4</th>\n",
       "      <td>5</td>\n",
       "      <td>Green Chile Anytime Sauce</td>\n",
       "      <td>5</td>\n",
       "      <td>13</td>\n",
       "    </tr>\n",
       "    <tr>\n",
       "      <th>...</th>\n",
       "      <td>...</td>\n",
       "      <td>...</td>\n",
       "      <td>...</td>\n",
       "      <td>...</td>\n",
       "    </tr>\n",
       "    <tr>\n",
       "      <th>49689</th>\n",
       "      <td>49690</td>\n",
       "      <td>HIGH PERFORMANCE ENERGY DRINK</td>\n",
       "      <td>64</td>\n",
       "      <td>7</td>\n",
       "    </tr>\n",
       "    <tr>\n",
       "      <th>49690</th>\n",
       "      <td>49691</td>\n",
       "      <td>ORIGINAL PANCAKE &amp; WAFFLE MIX</td>\n",
       "      <td>130</td>\n",
       "      <td>14</td>\n",
       "    </tr>\n",
       "    <tr>\n",
       "      <th>49691</th>\n",
       "      <td>49692</td>\n",
       "      <td>ORGANIC INSTANT OATMEAL LIGHT MAPLE BROWN SUGAR</td>\n",
       "      <td>130</td>\n",
       "      <td>14</td>\n",
       "    </tr>\n",
       "    <tr>\n",
       "      <th>49692</th>\n",
       "      <td>49693</td>\n",
       "      <td>SPRING WATER BODY WASH</td>\n",
       "      <td>127</td>\n",
       "      <td>11</td>\n",
       "    </tr>\n",
       "    <tr>\n",
       "      <th>49693</th>\n",
       "      <td>49694</td>\n",
       "      <td>BURRITO- STEAK &amp; CHEESE</td>\n",
       "      <td>38</td>\n",
       "      <td>1</td>\n",
       "    </tr>\n",
       "  </tbody>\n",
       "</table>\n",
       "<p>49694 rows × 4 columns</p>\n",
       "</div>"
      ],
      "text/plain": [
       "       product_id                                       product_name  \\\n",
       "0               1                         Chocolate Sandwich Cookies   \n",
       "1               2                                   All-Seasons Salt   \n",
       "2               3               Robust Golden Unsweetened Oolong Tea   \n",
       "3               4  Smart Ones Classic Favorites Mini Rigatoni Wit...   \n",
       "4               5                          Green Chile Anytime Sauce   \n",
       "...           ...                                                ...   \n",
       "49689       49690                      HIGH PERFORMANCE ENERGY DRINK   \n",
       "49690       49691                      ORIGINAL PANCAKE & WAFFLE MIX   \n",
       "49691       49692    ORGANIC INSTANT OATMEAL LIGHT MAPLE BROWN SUGAR   \n",
       "49692       49693                             SPRING WATER BODY WASH   \n",
       "49693       49694                            BURRITO- STEAK & CHEESE   \n",
       "\n",
       "       aisle_id  department_id  \n",
       "0            61             19  \n",
       "1           104             13  \n",
       "2            94              7  \n",
       "3            38              1  \n",
       "4             5             13  \n",
       "...         ...            ...  \n",
       "49689        64              7  \n",
       "49690       130             14  \n",
       "49691       130             14  \n",
       "49692       127             11  \n",
       "49693        38              1  \n",
       "\n",
       "[49694 rows x 4 columns]"
      ]
     },
     "execution_count": 5,
     "metadata": {},
     "output_type": "execute_result"
    }
   ],
   "source": [
    "# In this cell, type \"products\" below this line and execute the cell\n",
    "products"
   ]
  },
  {
   "cell_type": "markdown",
   "id": "5143e30d-f791-4596-b1f2-3c64cf8d2243",
   "metadata": {
    "id": "5143e30d-f791-4596-b1f2-3c64cf8d2243"
   },
   "source": [
    "Repeat this process for each dataset to understand the structure, including the types of columns and rows they contain. Add additional code cells as needed for your analysis."
   ]
  },
  {
   "cell_type": "code",
   "execution_count": 6,
   "id": "9516a399-6bdc-43bf-9d0e-7afe34648808",
   "metadata": {},
   "outputs": [
    {
     "data": {
      "text/html": [
       "<div>\n",
       "<style scoped>\n",
       "    .dataframe tbody tr th:only-of-type {\n",
       "        vertical-align: middle;\n",
       "    }\n",
       "\n",
       "    .dataframe tbody tr th {\n",
       "        vertical-align: top;\n",
       "    }\n",
       "\n",
       "    .dataframe thead th {\n",
       "        text-align: right;\n",
       "    }\n",
       "</style>\n",
       "<table border=\"1\" class=\"dataframe\">\n",
       "  <thead>\n",
       "    <tr style=\"text-align: right;\">\n",
       "      <th></th>\n",
       "      <th>department_id</th>\n",
       "      <th>department</th>\n",
       "    </tr>\n",
       "  </thead>\n",
       "  <tbody>\n",
       "    <tr>\n",
       "      <th>0</th>\n",
       "      <td>1</td>\n",
       "      <td>frozen</td>\n",
       "    </tr>\n",
       "    <tr>\n",
       "      <th>1</th>\n",
       "      <td>2</td>\n",
       "      <td>other</td>\n",
       "    </tr>\n",
       "    <tr>\n",
       "      <th>2</th>\n",
       "      <td>3</td>\n",
       "      <td>bakery</td>\n",
       "    </tr>\n",
       "    <tr>\n",
       "      <th>3</th>\n",
       "      <td>4</td>\n",
       "      <td>produce</td>\n",
       "    </tr>\n",
       "    <tr>\n",
       "      <th>4</th>\n",
       "      <td>5</td>\n",
       "      <td>alcohol</td>\n",
       "    </tr>\n",
       "    <tr>\n",
       "      <th>5</th>\n",
       "      <td>6</td>\n",
       "      <td>international</td>\n",
       "    </tr>\n",
       "    <tr>\n",
       "      <th>6</th>\n",
       "      <td>7</td>\n",
       "      <td>beverages</td>\n",
       "    </tr>\n",
       "    <tr>\n",
       "      <th>7</th>\n",
       "      <td>8</td>\n",
       "      <td>pets</td>\n",
       "    </tr>\n",
       "    <tr>\n",
       "      <th>8</th>\n",
       "      <td>9</td>\n",
       "      <td>dry goods pasta</td>\n",
       "    </tr>\n",
       "    <tr>\n",
       "      <th>9</th>\n",
       "      <td>10</td>\n",
       "      <td>bulk</td>\n",
       "    </tr>\n",
       "    <tr>\n",
       "      <th>10</th>\n",
       "      <td>11</td>\n",
       "      <td>personal care</td>\n",
       "    </tr>\n",
       "    <tr>\n",
       "      <th>11</th>\n",
       "      <td>12</td>\n",
       "      <td>meat seafood</td>\n",
       "    </tr>\n",
       "    <tr>\n",
       "      <th>12</th>\n",
       "      <td>13</td>\n",
       "      <td>pantry</td>\n",
       "    </tr>\n",
       "    <tr>\n",
       "      <th>13</th>\n",
       "      <td>14</td>\n",
       "      <td>breakfast</td>\n",
       "    </tr>\n",
       "    <tr>\n",
       "      <th>14</th>\n",
       "      <td>15</td>\n",
       "      <td>canned goods</td>\n",
       "    </tr>\n",
       "    <tr>\n",
       "      <th>15</th>\n",
       "      <td>16</td>\n",
       "      <td>dairy eggs</td>\n",
       "    </tr>\n",
       "    <tr>\n",
       "      <th>16</th>\n",
       "      <td>17</td>\n",
       "      <td>household</td>\n",
       "    </tr>\n",
       "    <tr>\n",
       "      <th>17</th>\n",
       "      <td>18</td>\n",
       "      <td>babies</td>\n",
       "    </tr>\n",
       "    <tr>\n",
       "      <th>18</th>\n",
       "      <td>19</td>\n",
       "      <td>snacks</td>\n",
       "    </tr>\n",
       "    <tr>\n",
       "      <th>19</th>\n",
       "      <td>20</td>\n",
       "      <td>deli</td>\n",
       "    </tr>\n",
       "    <tr>\n",
       "      <th>20</th>\n",
       "      <td>21</td>\n",
       "      <td>missing</td>\n",
       "    </tr>\n",
       "  </tbody>\n",
       "</table>\n",
       "</div>"
      ],
      "text/plain": [
       "    department_id       department\n",
       "0               1           frozen\n",
       "1               2            other\n",
       "2               3           bakery\n",
       "3               4          produce\n",
       "4               5          alcohol\n",
       "5               6    international\n",
       "6               7        beverages\n",
       "7               8             pets\n",
       "8               9  dry goods pasta\n",
       "9              10             bulk\n",
       "10             11    personal care\n",
       "11             12     meat seafood\n",
       "12             13           pantry\n",
       "13             14        breakfast\n",
       "14             15     canned goods\n",
       "15             16       dairy eggs\n",
       "16             17        household\n",
       "17             18           babies\n",
       "18             19           snacks\n",
       "19             20             deli\n",
       "20             21          missing"
      ]
     },
     "execution_count": 6,
     "metadata": {},
     "output_type": "execute_result"
    }
   ],
   "source": [
    "# departments insights\n",
    "departments"
   ]
  },
  {
   "cell_type": "code",
   "execution_count": 7,
   "id": "42b24126-f706-4d53-b25f-190f24070cfa",
   "metadata": {},
   "outputs": [
    {
     "data": {
      "text/html": [
       "<div>\n",
       "<style scoped>\n",
       "    .dataframe tbody tr th:only-of-type {\n",
       "        vertical-align: middle;\n",
       "    }\n",
       "\n",
       "    .dataframe tbody tr th {\n",
       "        vertical-align: top;\n",
       "    }\n",
       "\n",
       "    .dataframe thead th {\n",
       "        text-align: right;\n",
       "    }\n",
       "</style>\n",
       "<table border=\"1\" class=\"dataframe\">\n",
       "  <thead>\n",
       "    <tr style=\"text-align: right;\">\n",
       "      <th></th>\n",
       "      <th>aisle_id</th>\n",
       "      <th>aisle</th>\n",
       "    </tr>\n",
       "  </thead>\n",
       "  <tbody>\n",
       "    <tr>\n",
       "      <th>0</th>\n",
       "      <td>1</td>\n",
       "      <td>prepared soups salads</td>\n",
       "    </tr>\n",
       "    <tr>\n",
       "      <th>1</th>\n",
       "      <td>2</td>\n",
       "      <td>specialty cheeses</td>\n",
       "    </tr>\n",
       "    <tr>\n",
       "      <th>2</th>\n",
       "      <td>3</td>\n",
       "      <td>energy granola bars</td>\n",
       "    </tr>\n",
       "    <tr>\n",
       "      <th>3</th>\n",
       "      <td>4</td>\n",
       "      <td>instant foods</td>\n",
       "    </tr>\n",
       "    <tr>\n",
       "      <th>4</th>\n",
       "      <td>5</td>\n",
       "      <td>marinades meat preparation</td>\n",
       "    </tr>\n",
       "    <tr>\n",
       "      <th>...</th>\n",
       "      <td>...</td>\n",
       "      <td>...</td>\n",
       "    </tr>\n",
       "    <tr>\n",
       "      <th>129</th>\n",
       "      <td>130</td>\n",
       "      <td>hot cereal pancake mixes</td>\n",
       "    </tr>\n",
       "    <tr>\n",
       "      <th>130</th>\n",
       "      <td>131</td>\n",
       "      <td>dry pasta</td>\n",
       "    </tr>\n",
       "    <tr>\n",
       "      <th>131</th>\n",
       "      <td>132</td>\n",
       "      <td>beauty</td>\n",
       "    </tr>\n",
       "    <tr>\n",
       "      <th>132</th>\n",
       "      <td>133</td>\n",
       "      <td>muscles joints pain relief</td>\n",
       "    </tr>\n",
       "    <tr>\n",
       "      <th>133</th>\n",
       "      <td>134</td>\n",
       "      <td>specialty wines champagnes</td>\n",
       "    </tr>\n",
       "  </tbody>\n",
       "</table>\n",
       "<p>134 rows × 2 columns</p>\n",
       "</div>"
      ],
      "text/plain": [
       "     aisle_id                       aisle\n",
       "0           1       prepared soups salads\n",
       "1           2           specialty cheeses\n",
       "2           3         energy granola bars\n",
       "3           4               instant foods\n",
       "4           5  marinades meat preparation\n",
       "..        ...                         ...\n",
       "129       130    hot cereal pancake mixes\n",
       "130       131                   dry pasta\n",
       "131       132                      beauty\n",
       "132       133  muscles joints pain relief\n",
       "133       134  specialty wines champagnes\n",
       "\n",
       "[134 rows x 2 columns]"
      ]
     },
     "execution_count": 7,
     "metadata": {},
     "output_type": "execute_result"
    }
   ],
   "source": [
    "# aisles insights \n",
    "aisles"
   ]
  },
  {
   "cell_type": "code",
   "execution_count": 8,
   "id": "94fa808a-07ed-4095-b3d7-65da204c6032",
   "metadata": {},
   "outputs": [
    {
     "data": {
      "text/html": [
       "<div>\n",
       "<style scoped>\n",
       "    .dataframe tbody tr th:only-of-type {\n",
       "        vertical-align: middle;\n",
       "    }\n",
       "\n",
       "    .dataframe tbody tr th {\n",
       "        vertical-align: top;\n",
       "    }\n",
       "\n",
       "    .dataframe thead th {\n",
       "        text-align: right;\n",
       "    }\n",
       "</style>\n",
       "<table border=\"1\" class=\"dataframe\">\n",
       "  <thead>\n",
       "    <tr style=\"text-align: right;\">\n",
       "      <th></th>\n",
       "      <th>order_id</th>\n",
       "      <th>product_id</th>\n",
       "      <th>add_to_cart_order</th>\n",
       "      <th>reordered</th>\n",
       "    </tr>\n",
       "  </thead>\n",
       "  <tbody>\n",
       "    <tr>\n",
       "      <th>0</th>\n",
       "      <td>2141543</td>\n",
       "      <td>11440</td>\n",
       "      <td>17.0</td>\n",
       "      <td>0</td>\n",
       "    </tr>\n",
       "    <tr>\n",
       "      <th>1</th>\n",
       "      <td>567889</td>\n",
       "      <td>1560</td>\n",
       "      <td>1.0</td>\n",
       "      <td>1</td>\n",
       "    </tr>\n",
       "    <tr>\n",
       "      <th>2</th>\n",
       "      <td>2261212</td>\n",
       "      <td>26683</td>\n",
       "      <td>1.0</td>\n",
       "      <td>1</td>\n",
       "    </tr>\n",
       "    <tr>\n",
       "      <th>3</th>\n",
       "      <td>491251</td>\n",
       "      <td>8670</td>\n",
       "      <td>35.0</td>\n",
       "      <td>1</td>\n",
       "    </tr>\n",
       "    <tr>\n",
       "      <th>4</th>\n",
       "      <td>2571142</td>\n",
       "      <td>1940</td>\n",
       "      <td>5.0</td>\n",
       "      <td>1</td>\n",
       "    </tr>\n",
       "    <tr>\n",
       "      <th>...</th>\n",
       "      <td>...</td>\n",
       "      <td>...</td>\n",
       "      <td>...</td>\n",
       "      <td>...</td>\n",
       "    </tr>\n",
       "    <tr>\n",
       "      <th>4545002</th>\n",
       "      <td>577211</td>\n",
       "      <td>15290</td>\n",
       "      <td>12.0</td>\n",
       "      <td>1</td>\n",
       "    </tr>\n",
       "    <tr>\n",
       "      <th>4545003</th>\n",
       "      <td>1219554</td>\n",
       "      <td>21914</td>\n",
       "      <td>9.0</td>\n",
       "      <td>0</td>\n",
       "    </tr>\n",
       "    <tr>\n",
       "      <th>4545004</th>\n",
       "      <td>692640</td>\n",
       "      <td>47766</td>\n",
       "      <td>4.0</td>\n",
       "      <td>1</td>\n",
       "    </tr>\n",
       "    <tr>\n",
       "      <th>4545005</th>\n",
       "      <td>319435</td>\n",
       "      <td>691</td>\n",
       "      <td>8.0</td>\n",
       "      <td>1</td>\n",
       "    </tr>\n",
       "    <tr>\n",
       "      <th>4545006</th>\n",
       "      <td>1398151</td>\n",
       "      <td>28733</td>\n",
       "      <td>9.0</td>\n",
       "      <td>0</td>\n",
       "    </tr>\n",
       "  </tbody>\n",
       "</table>\n",
       "<p>4545007 rows × 4 columns</p>\n",
       "</div>"
      ],
      "text/plain": [
       "         order_id  product_id  add_to_cart_order  reordered\n",
       "0         2141543       11440               17.0          0\n",
       "1          567889        1560                1.0          1\n",
       "2         2261212       26683                1.0          1\n",
       "3          491251        8670               35.0          1\n",
       "4         2571142        1940                5.0          1\n",
       "...           ...         ...                ...        ...\n",
       "4545002    577211       15290               12.0          1\n",
       "4545003   1219554       21914                9.0          0\n",
       "4545004    692640       47766                4.0          1\n",
       "4545005    319435         691                8.0          1\n",
       "4545006   1398151       28733                9.0          0\n",
       "\n",
       "[4545007 rows x 4 columns]"
      ]
     },
     "execution_count": 8,
     "metadata": {},
     "output_type": "execute_result"
    }
   ],
   "source": [
    "#order_products insights\n",
    "\n",
    "order_products\n"
   ]
  },
  {
   "cell_type": "code",
   "execution_count": 9,
   "id": "d8370c05",
   "metadata": {
    "id": "d8370c05"
   },
   "outputs": [
    {
     "name": "stdout",
     "output_type": "stream",
     "text": [
      "<class 'pandas.core.frame.DataFrame'>\n",
      "RangeIndex: 478967 entries, 0 to 478966\n",
      "Data columns (total 6 columns):\n",
      " #   Column                  Non-Null Count   Dtype  \n",
      "---  ------                  --------------   -----  \n",
      " 0   order_id                478967 non-null  int64  \n",
      " 1   user_id                 478967 non-null  int64  \n",
      " 2   order_number            478967 non-null  int64  \n",
      " 3   order_dow               478967 non-null  int64  \n",
      " 4   order_hour_of_day       478967 non-null  int64  \n",
      " 5   days_since_prior_order  450148 non-null  float64\n",
      "dtypes: float64(1), int64(5)\n",
      "memory usage: 21.9 MB\n"
     ]
    }
   ],
   "source": [
    "# In this cell, type \"orders.info() below this line and execute the cell\n",
    "orders.info()\n"
   ]
  },
  {
   "cell_type": "markdown",
   "id": "73bc6c88-e73f-4d53-b887-5ee6b5e6c570",
   "metadata": {
    "id": "73bc6c88-e73f-4d53-b887-5ee6b5e6c570"
   },
   "source": [
    "The \"Non-Null Count\" column provides information about any missing values in each column of the dataset. With a total of 478,952 entries, observe any columns where the non-null count is less than this number to identify missing values."
   ]
  },
  {
   "cell_type": "code",
   "execution_count": 10,
   "id": "59e2090f",
   "metadata": {
    "id": "59e2090f"
   },
   "outputs": [
    {
     "name": "stdout",
     "output_type": "stream",
     "text": [
      "<class 'pandas.core.frame.DataFrame'>\n",
      "RangeIndex: 4545007 entries, 0 to 4545006\n",
      "Data columns (total 4 columns):\n",
      " #   Column             Non-Null Count    Dtype  \n",
      "---  ------             --------------    -----  \n",
      " 0   order_id           4545007 non-null  int64  \n",
      " 1   product_id         4545007 non-null  int64  \n",
      " 2   add_to_cart_order  4544171 non-null  float64\n",
      " 3   reordered          4545007 non-null  int64  \n",
      "dtypes: float64(1), int64(3)\n",
      "memory usage: 138.7 MB\n"
     ]
    }
   ],
   "source": [
    "# In this cell, run orders_products.info() below, but include the argument show_counts=True since this is a large file.\n",
    "order_products.info(show_counts=True) \n",
    "\n"
   ]
  },
  {
   "cell_type": "markdown",
   "id": "3360e4ce-723c-45bd-8998-ca2f1db53349",
   "metadata": {
    "id": "3360e4ce-723c-45bd-8998-ca2f1db53349"
   },
   "source": [
    "Repeat the use of .info() on the remaining datasets to identify missing values and understand their structure. Check the \"Non-Null Count\" for each dataset to spot any columns with missing values."
   ]
  },
  {
   "cell_type": "code",
   "execution_count": 11,
   "id": "df4cd318-e5c6-4dba-bbb2-9ccb9d382842",
   "metadata": {},
   "outputs": [
    {
     "name": "stdout",
     "output_type": "stream",
     "text": [
      "<class 'pandas.core.frame.DataFrame'>\n",
      "RangeIndex: 49694 entries, 0 to 49693\n",
      "Data columns (total 4 columns):\n",
      " #   Column         Non-Null Count  Dtype \n",
      "---  ------         --------------  ----- \n",
      " 0   product_id     49694 non-null  int64 \n",
      " 1   product_name   48436 non-null  object\n",
      " 2   aisle_id       49694 non-null  int64 \n",
      " 3   department_id  49694 non-null  int64 \n",
      "dtypes: int64(3), object(1)\n",
      "memory usage: 1.5+ MB\n"
     ]
    }
   ],
   "source": [
    "#info in products\n",
    "products.info(show_counts=True)\n"
   ]
  },
  {
   "cell_type": "code",
   "execution_count": 12,
   "id": "4bbf7d73-1346-41ee-887e-454b0ac6b71d",
   "metadata": {},
   "outputs": [
    {
     "name": "stdout",
     "output_type": "stream",
     "text": [
      "<class 'pandas.core.frame.DataFrame'>\n",
      "RangeIndex: 21 entries, 0 to 20\n",
      "Data columns (total 2 columns):\n",
      " #   Column         Non-Null Count  Dtype \n",
      "---  ------         --------------  ----- \n",
      " 0   department_id  21 non-null     int64 \n",
      " 1   department     21 non-null     object\n",
      "dtypes: int64(1), object(1)\n",
      "memory usage: 464.0+ bytes\n"
     ]
    }
   ],
   "source": [
    "#info in departments\n",
    "departments.info(show_counts=True)"
   ]
  },
  {
   "cell_type": "code",
   "execution_count": 13,
   "id": "1e82377a-3452-4983-8da7-e405204c76ee",
   "metadata": {},
   "outputs": [
    {
     "name": "stdout",
     "output_type": "stream",
     "text": [
      "<class 'pandas.core.frame.DataFrame'>\n",
      "RangeIndex: 134 entries, 0 to 133\n",
      "Data columns (total 2 columns):\n",
      " #   Column    Non-Null Count  Dtype \n",
      "---  ------    --------------  ----- \n",
      " 0   aisle_id  134 non-null    int64 \n",
      " 1   aisle     134 non-null    object\n",
      "dtypes: int64(1), object(1)\n",
      "memory usage: 2.2+ KB\n"
     ]
    }
   ],
   "source": [
    "#info in aisles\n",
    "aisles.info(show_counts=True)"
   ]
  },
  {
   "cell_type": "markdown",
   "id": "1e46de76",
   "metadata": {
    "id": "1e46de76"
   },
   "source": [
    "## Find and Remove Missing Values\n",
    "\n",
    "We noticed that some columns contain missing values.\n",
    "\n",
    "Here are some useful code snippets:\n",
    "\n",
    "```python\n",
    "# Identify missing values in each column\n",
    "print(dataset.isnull().sum())\n",
    "\n",
    "# Display rows where a specific column has missing values\n",
    "print(dataset[dataset['column_name'].isna()])\n",
    "\n",
    "# Confirm no missing values remain\n",
    "print(dataset.isnull().sum())\n",
    "```"
   ]
  },
  {
   "cell_type": "markdown",
   "id": "c0aebd78",
   "metadata": {
    "id": "c0aebd78"
   },
   "source": [
    "### `products` Data Frame\n",
    "\n",
    "We will begin by addressing the missing values in the `products` data frame."
   ]
  },
  {
   "cell_type": "code",
   "execution_count": 14,
   "id": "fe4a8b0f",
   "metadata": {
    "id": "fe4a8b0f"
   },
   "outputs": [
    {
     "name": "stdout",
     "output_type": "stream",
     "text": [
      "       product_id product_name  aisle_id  department_id\n",
      "37             38          NaN       100             21\n",
      "71             72          NaN       100             21\n",
      "109           110          NaN       100             21\n",
      "296           297          NaN       100             21\n",
      "416           417          NaN       100             21\n",
      "...           ...          ...       ...            ...\n",
      "49552       49553          NaN       100             21\n",
      "49574       49575          NaN       100             21\n",
      "49640       49641          NaN       100             21\n",
      "49663       49664          NaN       100             21\n",
      "49668       49669          NaN       100             21\n",
      "\n",
      "[1258 rows x 4 columns]\n"
     ]
    }
   ],
   "source": [
    "# Display rows where the product_name column has missing values\n",
    "print(products[products['product_name'].isna()])"
   ]
  },
  {
   "cell_type": "markdown",
   "id": "b077fb59-f1f2-4390-a2bd-cdccadd5a747",
   "metadata": {
    "id": "b077fb59-f1f2-4390-a2bd-cdccadd5a747"
   },
   "source": [
    "It seems suspicious that all rows with missing `product_name` might be associated with `aisle_id` 100 and `department_id` 21. Let’s verify this by checking if any rows with missing `product_name` have an `aisle_id` different from 100 and 21. This will help us confirm if the issue is isolated to this aisle or spread across others."
   ]
  },
  {
   "cell_type": "code",
   "execution_count": 15,
   "id": "e96167bc",
   "metadata": {
    "id": "e96167bc"
   },
   "outputs": [
    {
     "data": {
      "text/html": [
       "<div>\n",
       "<style scoped>\n",
       "    .dataframe tbody tr th:only-of-type {\n",
       "        vertical-align: middle;\n",
       "    }\n",
       "\n",
       "    .dataframe tbody tr th {\n",
       "        vertical-align: top;\n",
       "    }\n",
       "\n",
       "    .dataframe thead th {\n",
       "        text-align: right;\n",
       "    }\n",
       "</style>\n",
       "<table border=\"1\" class=\"dataframe\">\n",
       "  <thead>\n",
       "    <tr style=\"text-align: right;\">\n",
       "      <th></th>\n",
       "      <th>product_id</th>\n",
       "      <th>product_name</th>\n",
       "      <th>aisle_id</th>\n",
       "      <th>department_id</th>\n",
       "    </tr>\n",
       "  </thead>\n",
       "  <tbody>\n",
       "  </tbody>\n",
       "</table>\n",
       "</div>"
      ],
      "text/plain": [
       "Empty DataFrame\n",
       "Columns: [product_id, product_name, aisle_id, department_id]\n",
       "Index: []"
      ]
     },
     "execution_count": 15,
     "metadata": {},
     "output_type": "execute_result"
    }
   ],
   "source": [
    "# Combine conditions to check for missing product names in aisles other than 100\n",
    "\n",
    "missing_product_non_100 = products[products['product_name'].isna() & ((products['aisle_id'] != 100))]\n",
    "missing_product_non_100\n",
    "\n"
   ]
  },
  {
   "cell_type": "code",
   "execution_count": 16,
   "id": "8fd0a541",
   "metadata": {
    "id": "8fd0a541"
   },
   "outputs": [
    {
     "data": {
      "text/html": [
       "<div>\n",
       "<style scoped>\n",
       "    .dataframe tbody tr th:only-of-type {\n",
       "        vertical-align: middle;\n",
       "    }\n",
       "\n",
       "    .dataframe tbody tr th {\n",
       "        vertical-align: top;\n",
       "    }\n",
       "\n",
       "    .dataframe thead th {\n",
       "        text-align: right;\n",
       "    }\n",
       "</style>\n",
       "<table border=\"1\" class=\"dataframe\">\n",
       "  <thead>\n",
       "    <tr style=\"text-align: right;\">\n",
       "      <th></th>\n",
       "      <th>product_id</th>\n",
       "      <th>product_name</th>\n",
       "      <th>aisle_id</th>\n",
       "      <th>department_id</th>\n",
       "    </tr>\n",
       "  </thead>\n",
       "  <tbody>\n",
       "  </tbody>\n",
       "</table>\n",
       "</div>"
      ],
      "text/plain": [
       "Empty DataFrame\n",
       "Columns: [product_id, product_name, aisle_id, department_id]\n",
       "Index: []"
      ]
     },
     "execution_count": 16,
     "metadata": {},
     "output_type": "execute_result"
    }
   ],
   "source": [
    "# Combine conditions to check for missing product names in aisles other than 21\n",
    "missing_product_non_21 = products[products['product_name'].isna() & ((products['department_id'] != 21))]\n",
    "missing_product_non_21\n"
   ]
  },
  {
   "cell_type": "markdown",
   "id": "2c74c53f-a139-4d83-9be9-628fca74ce7c",
   "metadata": {
    "id": "2c74c53f-a139-4d83-9be9-628fca74ce7c"
   },
   "source": [
    "To better understand the missing product_name values, let’s determine what department_id 21 and aisle_id 100 represent by referencing the departments and aisles tables."
   ]
  },
  {
   "cell_type": "code",
   "execution_count": 17,
   "id": "325c3464",
   "metadata": {
    "id": "325c3464"
   },
   "outputs": [
    {
     "name": "stdout",
     "output_type": "stream",
     "text": [
      "missing\n",
      "missing\n"
     ]
    }
   ],
   "source": [
    "# What is this aisle and department?\n",
    "\n",
    "print(departments.loc[departments['department_id'] == 21, 'department'].values[0])\n",
    "print(aisles.loc[aisles['aisle_id'] == 100, 'aisle'].values[0])\n",
    "\n"
   ]
  },
  {
   "cell_type": "code",
   "execution_count": 18,
   "id": "6b295120",
   "metadata": {
    "id": "6b295120"
   },
   "outputs": [
    {
     "name": "stdout",
     "output_type": "stream",
     "text": [
      "0\n"
     ]
    }
   ],
   "source": [
    "# Fill missing product names with 'Unknown'\n",
    "products['product_name'] = products['product_name'].fillna('Unknown')\n",
    "# Confirm no missing values remain\n",
    "print(products['product_name'].isnull().sum())\n"
   ]
  },
  {
   "cell_type": "markdown",
   "id": "7eb45c86",
   "metadata": {
    "id": "7eb45c86"
   },
   "source": [
    "### `orders` data frame\n",
    "\n",
    "Now let's fill in missing values from the `orders` table."
   ]
  },
  {
   "cell_type": "code",
   "execution_count": 19,
   "id": "93e41d96",
   "metadata": {
    "id": "93e41d96"
   },
   "outputs": [
    {
     "name": "stdout",
     "output_type": "stream",
     "text": [
      "        order_id  user_id  order_number  order_dow  order_hour_of_day  \\\n",
      "28        133707   182261             1          3                 10   \n",
      "96        787445    25685             1          6                 18   \n",
      "100       294410   111449             1          0                 19   \n",
      "103      2869915   123958             1          4                 16   \n",
      "104      2521921    42286             1          3                 18   \n",
      "...          ...      ...           ...        ...                ...   \n",
      "478895   2589657   205028             1          0                 16   \n",
      "478896   2222353   141211             1          2                 13   \n",
      "478922   2272807   204154             1          1                 15   \n",
      "478926   2499542    68810             1          4                 19   \n",
      "478945   1387033    22496             1          5                 14   \n",
      "\n",
      "        days_since_prior_order  \n",
      "28                         NaN  \n",
      "96                         NaN  \n",
      "100                        NaN  \n",
      "103                        NaN  \n",
      "104                        NaN  \n",
      "...                        ...  \n",
      "478895                     NaN  \n",
      "478896                     NaN  \n",
      "478922                     NaN  \n",
      "478926                     NaN  \n",
      "478945                     NaN  \n",
      "\n",
      "[28819 rows x 6 columns]\n"
     ]
    }
   ],
   "source": [
    "# Display rows where the days_since_prior_order column has missing values\n",
    "print(orders[orders['days_since_prior_order'].isna()])"
   ]
  },
  {
   "cell_type": "code",
   "execution_count": 20,
   "id": "166e5a86",
   "metadata": {
    "id": "166e5a86"
   },
   "outputs": [
    {
     "data": {
      "text/html": [
       "<div>\n",
       "<style scoped>\n",
       "    .dataframe tbody tr th:only-of-type {\n",
       "        vertical-align: middle;\n",
       "    }\n",
       "\n",
       "    .dataframe tbody tr th {\n",
       "        vertical-align: top;\n",
       "    }\n",
       "\n",
       "    .dataframe thead th {\n",
       "        text-align: right;\n",
       "    }\n",
       "</style>\n",
       "<table border=\"1\" class=\"dataframe\">\n",
       "  <thead>\n",
       "    <tr style=\"text-align: right;\">\n",
       "      <th></th>\n",
       "      <th>order_id</th>\n",
       "      <th>user_id</th>\n",
       "      <th>order_number</th>\n",
       "      <th>order_dow</th>\n",
       "      <th>order_hour_of_day</th>\n",
       "      <th>days_since_prior_order</th>\n",
       "    </tr>\n",
       "  </thead>\n",
       "  <tbody>\n",
       "  </tbody>\n",
       "</table>\n",
       "</div>"
      ],
      "text/plain": [
       "Empty DataFrame\n",
       "Columns: [order_id, user_id, order_number, order_dow, order_hour_of_day, days_since_prior_order]\n",
       "Index: []"
      ]
     },
     "execution_count": 20,
     "metadata": {},
     "output_type": "execute_result"
    }
   ],
   "source": [
    "# Are there any missing values where it's not a customer's first order?\n",
    "missing_first_order= orders[orders['days_since_prior_order'].isna() & ((orders['order_number'] != 1))]\n",
    "missing_first_order"
   ]
  },
  {
   "cell_type": "markdown",
   "id": "4e23d089",
   "metadata": {
    "id": "4e23d089"
   },
   "source": [
    "All of the missing `'days_since_prior_order'` values correspond to a customer's first ever order. This makes sense because there is no prior order! We'll leave the values as `NaN` so the column can remain numeric. Also, the `NaN` values shouldn't interfere with any calculations we might do using this column."
   ]
  },
  {
   "cell_type": "markdown",
   "id": "69dc9ca4",
   "metadata": {
    "id": "69dc9ca4"
   },
   "source": [
    "### `order_products` data frame\n",
    "\n",
    "Now let's fill in missing values from the order_products table."
   ]
  },
  {
   "cell_type": "code",
   "execution_count": 21,
   "id": "b8240253",
   "metadata": {
    "id": "b8240253"
   },
   "outputs": [
    {
     "name": "stdout",
     "output_type": "stream",
     "text": [
      "         order_id  product_id  add_to_cart_order  reordered\n",
      "737       2449164        5068                NaN          0\n",
      "9926      1968313       43867                NaN          0\n",
      "14394     2926893       11688                NaN          0\n",
      "16418     1717990        4142                NaN          0\n",
      "30114     1959075       42828                NaN          1\n",
      "...           ...         ...                ...        ...\n",
      "4505662   1800005        7411                NaN          0\n",
      "4511400   1633337         260                NaN          0\n",
      "4517562    404157        9517                NaN          0\n",
      "4534112   1673227       17835                NaN          0\n",
      "4535739   1832957       17949                NaN          1\n",
      "\n",
      "[836 rows x 4 columns]\n"
     ]
    }
   ],
   "source": [
    "# Display rows where the add_to_cart_order column has missing values\n",
    "print(order_products[order_products['add_to_cart_order'].isna()])"
   ]
  },
  {
   "cell_type": "code",
   "execution_count": 22,
   "id": "9a78e5ee",
   "metadata": {
    "id": "9a78e5ee"
   },
   "outputs": [
    {
     "name": "stdout",
     "output_type": "stream",
     "text": [
      "1.0\n",
      "64.0\n"
     ]
    }
   ],
   "source": [
    "# Use .min() and .max() to find the minimum and maximum values for this column.\n",
    "print(order_products['add_to_cart_order'].min())\n",
    "print(order_products['add_to_cart_order'].max())\n",
    "\n"
   ]
  },
  {
   "cell_type": "code",
   "execution_count": 23,
   "id": "ab9d0c2b",
   "metadata": {
    "id": "ab9d0c2b"
   },
   "outputs": [
    {
     "name": "stdout",
     "output_type": "stream",
     "text": [
      "         order_id  product_id  add_to_cart_order  reordered\n",
      "737       2449164        5068                NaN          0\n",
      "9926      1968313       43867                NaN          0\n",
      "14394     2926893       11688                NaN          0\n",
      "16418     1717990        4142                NaN          0\n",
      "30114     1959075       42828                NaN          1\n",
      "...           ...         ...                ...        ...\n",
      "4505662   1800005        7411                NaN          0\n",
      "4511400   1633337         260                NaN          0\n",
      "4517562    404157        9517                NaN          0\n",
      "4534112   1673227       17835                NaN          0\n",
      "4535739   1832957       17949                NaN          1\n",
      "\n",
      "[836 rows x 4 columns]\n"
     ]
    }
   ],
   "source": [
    "# Save all order IDs with at least one missing value in 'add_to_cart_order'\n",
    "missing_cart = order_products.loc[order_products['add_to_cart_order'].isna()]\n",
    "print(missing_cart)\n",
    "\n"
   ]
  },
  {
   "cell_type": "code",
   "execution_count": 25,
   "id": "1c4afc77-d051-4262-99fc-4081194a5aff",
   "metadata": {},
   "outputs": [
    {
     "name": "stdout",
     "output_type": "stream",
     "text": [
      "order_id\n",
      "61355      127\n",
      "3308010    115\n",
      "2136777    108\n",
      "171934     104\n",
      "1959075     98\n",
      "          ... \n",
      "888470      65\n",
      "1598369     65\n",
      "747668      65\n",
      "1677118     65\n",
      "9310        65\n",
      "Length: 70, dtype: int64\n"
     ]
    }
   ],
   "source": [
    "# Do all orders with missing values have more than 64 products?\n",
    "\n",
    "# order_ids with NaN in add_to_cart_order\n",
    "missing_cart_orders = order_products[order_products['add_to_cart_order'].isna()]['order_id'].unique()\n",
    "\n",
    "# Get all rows for those orders\n",
    "missing_orders_df = order_products[order_products['order_id'].isin(missing_cart_orders)]\n",
    "\n",
    "#Count the number of items per order\n",
    "item_counts = missing_orders_df.groupby('order_id').size().sort_values(ascending=False)\n",
    "\n",
    "# Print or analyze the result\n",
    "print(item_counts)"
   ]
  },
  {
   "cell_type": "code",
   "execution_count": 26,
   "id": "7a987d08",
   "metadata": {
    "id": "7a987d08"
   },
   "outputs": [
    {
     "name": "stdout",
     "output_type": "stream",
     "text": [
      "0\n"
     ]
    }
   ],
   "source": [
    "# Replace missing values with 999 and convert column to integer type\n",
    "order_products['add_to_cart_order'] = order_products['add_to_cart_order'].fillna('999').astype('int')\n",
    "# Confirm no missing values remain\n",
    "print(products['product_name'].isnull().sum())"
   ]
  },
  {
   "cell_type": "markdown",
   "id": "fea4bcc7",
   "metadata": {
    "id": "fea4bcc7"
   },
   "source": [
    "For some reason, any item placed in the cart 65th or later has a missing value in the `'add_to_cart_order'` column. Maybe the data type of that column in the database could only hold integer values from 1 to 64. We've decided to replace the missing values with a code value, 999, that represents an unknown placed in cart order above 64. We also converted the column to integer data type. We just need to be careful to remember this if we perform calculations using this column during our analysis.\n",
    "\n",
    "Other sensible code values we could've used are 0 or -1 because they don't show up elsewhere in the dataset and they don't have any real physical meaning for this variable.\n",
    "\n",
    "Also note that, for orders with exactly 65 items, we could replace the missing value with 65. But we're going to neglect that for now since we can't determine the 65th item for all orders with 66 items or more."
   ]
  },
  {
   "cell_type": "markdown",
   "id": "07357848-dc64-4156-9cc3-01ff4365226d",
   "metadata": {
    "id": "07357848-dc64-4156-9cc3-01ff4365226d"
   },
   "source": [
    "## Find and Remove Duplicate Values from All the Datasets\n",
    "\n",
    "Each dataset may contain duplicate rows, which can lead to redundancy and affect the accuracy of our analysis. To handle this:\n",
    "\n",
    "1. Use the `.duplicated()` method to identify duplicate rows. This method returns a Boolean series where `True` indicates a duplicate row.\n",
    "2. Apply the `.drop_duplicates()` method to remove these duplicate rows, ensuring a cleaner dataset.\n",
    "3. Optionally, you can set the `keep` parameter in `.drop_duplicates()` to specify which duplicate to retain (`'first'` or `'last'`).\n",
    "\n",
    "Here is some example code for reference:\n",
    "```python\n",
    "# Check for duplicates\n",
    "print(dataset.duplicated().sum())  # Number of duplicate rows\n",
    "\n",
    "# View duplicate rows\n",
    "print(dataset[dataset.duplicated()]\n",
    "\n",
    "# Remove duplicates\n",
    "dataset = dataset.drop_duplicates().reset_index(drop=True)\n",
    "\n",
    "# Confirm removal\n",
    "print(dataset.duplicated().sum())  # Should return 0\n",
    "```\n",
    "\n",
    "Repeat this process for all datasets to ensure they are free of duplicate rows."
   ]
  },
  {
   "cell_type": "markdown",
   "id": "f179f0a9",
   "metadata": {
    "id": "f179f0a9"
   },
   "source": [
    "### `orders` data frame"
   ]
  },
  {
   "cell_type": "code",
   "execution_count": 27,
   "id": "bb1a8c31-0a95-487a-98fc-c040228245f6",
   "metadata": {
    "id": "bb1a8c31-0a95-487a-98fc-c040228245f6"
   },
   "outputs": [
    {
     "name": "stdout",
     "output_type": "stream",
     "text": [
      "15\n"
     ]
    }
   ],
   "source": [
    "# Find the number of duplicate rows in the orders dataframe\n",
    "print(orders.duplicated().sum())"
   ]
  },
  {
   "cell_type": "code",
   "execution_count": 28,
   "id": "b99297a5-405a-463d-8535-9adc3da4ad74",
   "metadata": {
    "id": "b99297a5-405a-463d-8535-9adc3da4ad74"
   },
   "outputs": [
    {
     "name": "stdout",
     "output_type": "stream",
     "text": [
      "        order_id  user_id  order_number  order_dow  order_hour_of_day  \\\n",
      "145574    794638    50898            24          3                  2   \n",
      "223105   2160484   107525            16          3                  2   \n",
      "230807   1918001   188546            14          3                  2   \n",
      "266232   1782114   106752             1          3                  2   \n",
      "273805   1112182   202304            84          3                  2   \n",
      "284038   2845099    31189            11          3                  2   \n",
      "311713   1021560    53767             3          3                  2   \n",
      "321100    408114    68324             4          3                  2   \n",
      "323900   1919531   191501            32          3                  2   \n",
      "345917   2232988    82565             1          3                  2   \n",
      "371905    391768    57671            19          3                  2   \n",
      "394347    467134    63189            21          3                  2   \n",
      "411408   1286742   183220            48          3                  2   \n",
      "415163   2282673    86751            49          3                  2   \n",
      "441599   2125197    14050            48          3                  2   \n",
      "\n",
      "        days_since_prior_order  \n",
      "145574                     2.0  \n",
      "223105                    30.0  \n",
      "230807                    16.0  \n",
      "266232                     NaN  \n",
      "273805                     6.0  \n",
      "284038                     7.0  \n",
      "311713                     9.0  \n",
      "321100                    18.0  \n",
      "323900                     7.0  \n",
      "345917                     NaN  \n",
      "371905                    10.0  \n",
      "394347                     2.0  \n",
      "411408                     4.0  \n",
      "415163                     2.0  \n",
      "441599                     3.0  \n"
     ]
    }
   ],
   "source": [
    "# View the duplicate rows\n",
    "print(orders[orders.duplicated()])"
   ]
  },
  {
   "cell_type": "code",
   "execution_count": 29,
   "id": "480563c7",
   "metadata": {
    "id": "480563c7"
   },
   "outputs": [],
   "source": [
    "# Remove duplicate orders\n",
    "orders = orders.drop_duplicates().reset_index(drop=True)"
   ]
  },
  {
   "cell_type": "code",
   "execution_count": 30,
   "id": "0b2396a2",
   "metadata": {
    "id": "0b2396a2"
   },
   "outputs": [
    {
     "name": "stdout",
     "output_type": "stream",
     "text": [
      "0\n"
     ]
    }
   ],
   "source": [
    "# Double check for duplicate rows\n",
    "print(orders.duplicated().sum())"
   ]
  },
  {
   "cell_type": "markdown",
   "id": "45e6bc46",
   "metadata": {
    "id": "45e6bc46"
   },
   "source": [
    "### `products` data frame"
   ]
  },
  {
   "cell_type": "code",
   "execution_count": 31,
   "id": "5f526b5b-8175-46fa-a0fd-441767d50e64",
   "metadata": {
    "id": "5f526b5b-8175-46fa-a0fd-441767d50e64"
   },
   "outputs": [
    {
     "name": "stdout",
     "output_type": "stream",
     "text": [
      "0\n",
      "\n",
      "Empty DataFrame\n",
      "Columns: [product_id, product_name, aisle_id, department_id]\n",
      "Index: []\n"
     ]
    }
   ],
   "source": [
    "# Check for fully duplicate rows\n",
    "\n",
    "print(products.duplicated().sum())\n",
    "print()\n",
    "print(products[products.duplicated()])\n"
   ]
  },
  {
   "cell_type": "code",
   "execution_count": 32,
   "id": "88daa4f4",
   "metadata": {
    "id": "88daa4f4"
   },
   "outputs": [
    {
     "name": "stdout",
     "output_type": "stream",
     "text": [
      "0\n",
      "\n",
      "Empty DataFrame\n",
      "Columns: [product_id, product_name, aisle_id, department_id]\n",
      "Index: []\n"
     ]
    }
   ],
   "source": [
    "\n",
    "# Check for just duplicate product IDs using subset='product_id' in duplicated()\n",
    "print(products.duplicated(subset='product_id').sum())\n",
    "print()\n",
    "print(products[products.duplicated(subset='product_id')])\n",
    "\n"
   ]
  },
  {
   "cell_type": "markdown",
   "id": "03c82be5-3463-4adb-a5eb-1755f011faa0",
   "metadata": {
    "id": "03c82be5-3463-4adb-a5eb-1755f011faa0"
   },
   "source": [
    "Hint: To identify duplicate product names more effectively, convert the names to lowercase for consistent comparison. Use the .str.lower() method on the product_name column to standardize the text before checking for duplicates."
   ]
  },
  {
   "cell_type": "code",
   "execution_count": 33,
   "id": "c773f0bf",
   "metadata": {
    "id": "c773f0bf"
   },
   "outputs": [
    {
     "name": "stdout",
     "output_type": "stream",
     "text": [
      "1361\n",
      "\n",
      "       product_id                                     product_name  aisle_id  \\\n",
      "71             72                                          unknown       100   \n",
      "109           110                                          unknown       100   \n",
      "296           297                                          unknown       100   \n",
      "416           417                                          unknown       100   \n",
      "436           437                                          unknown       100   \n",
      "...           ...                                              ...       ...   \n",
      "49689       49690                    high performance energy drink        64   \n",
      "49690       49691                    original pancake & waffle mix       130   \n",
      "49691       49692  organic instant oatmeal light maple brown sugar       130   \n",
      "49692       49693                           spring water body wash       127   \n",
      "49693       49694                          burrito- steak & cheese        38   \n",
      "\n",
      "       department_id  \n",
      "71                21  \n",
      "109               21  \n",
      "296               21  \n",
      "416               21  \n",
      "436               21  \n",
      "...              ...  \n",
      "49689              7  \n",
      "49690             14  \n",
      "49691             14  \n",
      "49692             11  \n",
      "49693              1  \n",
      "\n",
      "[1361 rows x 4 columns]\n"
     ]
    }
   ],
   "source": [
    "# Check for just duplicate product names (convert names to lowercase to compare better)\n",
    "products['product_name']=products['product_name'].str.lower()\n",
    "print(products['product_name'].duplicated().sum())\n",
    "print()\n",
    "print(products[products['product_name'].duplicated()])"
   ]
  },
  {
   "cell_type": "markdown",
   "id": "c502f00b-979b-4f6a-9457-569f412e1183",
   "metadata": {
    "id": "c502f00b-979b-4f6a-9457-569f412e1183"
   },
   "source": [
    "Let's see what that looks like in our dataset :"
   ]
  },
  {
   "cell_type": "code",
   "execution_count": 34,
   "id": "515b21b1-f458-4428-ba10-2820fef6158d",
   "metadata": {
    "id": "515b21b1-f458-4428-ba10-2820fef6158d"
   },
   "outputs": [
    {
     "data": {
      "text/html": [
       "<div>\n",
       "<style scoped>\n",
       "    .dataframe tbody tr th:only-of-type {\n",
       "        vertical-align: middle;\n",
       "    }\n",
       "\n",
       "    .dataframe tbody tr th {\n",
       "        vertical-align: top;\n",
       "    }\n",
       "\n",
       "    .dataframe thead th {\n",
       "        text-align: right;\n",
       "    }\n",
       "</style>\n",
       "<table border=\"1\" class=\"dataframe\">\n",
       "  <thead>\n",
       "    <tr style=\"text-align: right;\">\n",
       "      <th></th>\n",
       "      <th>product_id</th>\n",
       "      <th>product_name</th>\n",
       "      <th>aisle_id</th>\n",
       "      <th>department_id</th>\n",
       "    </tr>\n",
       "  </thead>\n",
       "  <tbody>\n",
       "    <tr>\n",
       "      <th>22540</th>\n",
       "      <td>22541</td>\n",
       "      <td>high performance energy drink</td>\n",
       "      <td>64</td>\n",
       "      <td>7</td>\n",
       "    </tr>\n",
       "    <tr>\n",
       "      <th>49689</th>\n",
       "      <td>49690</td>\n",
       "      <td>high performance energy drink</td>\n",
       "      <td>64</td>\n",
       "      <td>7</td>\n",
       "    </tr>\n",
       "  </tbody>\n",
       "</table>\n",
       "</div>"
      ],
      "text/plain": [
       "       product_id                   product_name  aisle_id  department_id\n",
       "22540       22541  high performance energy drink        64              7\n",
       "49689       49690  high performance energy drink        64              7"
      ]
     },
     "execution_count": 34,
     "metadata": {},
     "output_type": "execute_result"
    }
   ],
   "source": [
    "products[products['product_name'].str.lower() == 'high performance energy drink']"
   ]
  },
  {
   "cell_type": "code",
   "execution_count": 35,
   "id": "51a0e65f-2c0d-42f7-98d6-fd962a599a18",
   "metadata": {
    "id": "51a0e65f-2c0d-42f7-98d6-fd962a599a18"
   },
   "outputs": [
    {
     "name": "stdout",
     "output_type": "stream",
     "text": [
      "0\n"
     ]
    }
   ],
   "source": [
    "# Drop duplicate product names (case insensitive)\n",
    "products = products.drop_duplicates(subset='product_name')\n",
    "\n",
    "print(products.duplicated(subset='product_name').sum())\n"
   ]
  },
  {
   "cell_type": "markdown",
   "id": "60f30db1",
   "metadata": {
    "id": "60f30db1"
   },
   "source": [
    "### `departments` data frame"
   ]
  },
  {
   "cell_type": "code",
   "execution_count": 36,
   "id": "fb410ad4-0fbf-4b80-bb09-23fdea79afe3",
   "metadata": {
    "id": "fb410ad4-0fbf-4b80-bb09-23fdea79afe3"
   },
   "outputs": [
    {
     "data": {
      "text/html": [
       "<div>\n",
       "<style scoped>\n",
       "    .dataframe tbody tr th:only-of-type {\n",
       "        vertical-align: middle;\n",
       "    }\n",
       "\n",
       "    .dataframe tbody tr th {\n",
       "        vertical-align: top;\n",
       "    }\n",
       "\n",
       "    .dataframe thead th {\n",
       "        text-align: right;\n",
       "    }\n",
       "</style>\n",
       "<table border=\"1\" class=\"dataframe\">\n",
       "  <thead>\n",
       "    <tr style=\"text-align: right;\">\n",
       "      <th></th>\n",
       "      <th>department_id</th>\n",
       "      <th>department</th>\n",
       "    </tr>\n",
       "  </thead>\n",
       "  <tbody>\n",
       "  </tbody>\n",
       "</table>\n",
       "</div>"
      ],
      "text/plain": [
       "Empty DataFrame\n",
       "Columns: [department_id, department]\n",
       "Index: []"
      ]
     },
     "execution_count": 36,
     "metadata": {},
     "output_type": "execute_result"
    }
   ],
   "source": [
    "# Check for duplicate entries in the departments dataframe\n",
    "departments[departments.duplicated()]"
   ]
  },
  {
   "cell_type": "markdown",
   "id": "889349c1",
   "metadata": {
    "id": "889349c1"
   },
   "source": [
    "### `aisles` data frame"
   ]
  },
  {
   "cell_type": "code",
   "execution_count": 37,
   "id": "9da89fb9-4679-40f5-ad0d-c34df753a3f8",
   "metadata": {
    "id": "9da89fb9-4679-40f5-ad0d-c34df753a3f8"
   },
   "outputs": [
    {
     "data": {
      "text/html": [
       "<div>\n",
       "<style scoped>\n",
       "    .dataframe tbody tr th:only-of-type {\n",
       "        vertical-align: middle;\n",
       "    }\n",
       "\n",
       "    .dataframe tbody tr th {\n",
       "        vertical-align: top;\n",
       "    }\n",
       "\n",
       "    .dataframe thead th {\n",
       "        text-align: right;\n",
       "    }\n",
       "</style>\n",
       "<table border=\"1\" class=\"dataframe\">\n",
       "  <thead>\n",
       "    <tr style=\"text-align: right;\">\n",
       "      <th></th>\n",
       "      <th>aisle_id</th>\n",
       "      <th>aisle</th>\n",
       "    </tr>\n",
       "  </thead>\n",
       "  <tbody>\n",
       "  </tbody>\n",
       "</table>\n",
       "</div>"
      ],
      "text/plain": [
       "Empty DataFrame\n",
       "Columns: [aisle_id, aisle]\n",
       "Index: []"
      ]
     },
     "execution_count": 37,
     "metadata": {},
     "output_type": "execute_result"
    }
   ],
   "source": [
    "# Check for aisles entries in the departments dataframe\n",
    "aisles[aisles.duplicated()]"
   ]
  },
  {
   "cell_type": "markdown",
   "id": "274cd06a",
   "metadata": {
    "id": "274cd06a"
   },
   "source": [
    "### `order_products` data frame"
   ]
  },
  {
   "cell_type": "code",
   "execution_count": 38,
   "id": "52326689-84a8-4b8f-a881-7c68780f62c9",
   "metadata": {
    "id": "52326689-84a8-4b8f-a881-7c68780f62c9"
   },
   "outputs": [
    {
     "data": {
      "text/html": [
       "<div>\n",
       "<style scoped>\n",
       "    .dataframe tbody tr th:only-of-type {\n",
       "        vertical-align: middle;\n",
       "    }\n",
       "\n",
       "    .dataframe tbody tr th {\n",
       "        vertical-align: top;\n",
       "    }\n",
       "\n",
       "    .dataframe thead th {\n",
       "        text-align: right;\n",
       "    }\n",
       "</style>\n",
       "<table border=\"1\" class=\"dataframe\">\n",
       "  <thead>\n",
       "    <tr style=\"text-align: right;\">\n",
       "      <th></th>\n",
       "      <th>order_id</th>\n",
       "      <th>product_id</th>\n",
       "      <th>add_to_cart_order</th>\n",
       "      <th>reordered</th>\n",
       "    </tr>\n",
       "  </thead>\n",
       "  <tbody>\n",
       "  </tbody>\n",
       "</table>\n",
       "</div>"
      ],
      "text/plain": [
       "Empty DataFrame\n",
       "Columns: [order_id, product_id, add_to_cart_order, reordered]\n",
       "Index: []"
      ]
     },
     "execution_count": 38,
     "metadata": {},
     "output_type": "execute_result"
    }
   ],
   "source": [
    "# Check for duplicate entries in the order_products dataframe\n",
    "order_products[order_products.duplicated()]"
   ]
  },
  {
   "cell_type": "markdown",
   "id": "e5952f1b-3a4a-4144-a58e-77d72e1ed599",
   "metadata": {
    "id": "e5952f1b-3a4a-4144-a58e-77d72e1ed599"
   },
   "source": [
    "We have now successfully cleaned our data. Let's begin our exploratory data analysis."
   ]
  },
  {
   "cell_type": "markdown",
   "id": "turkish-kidney",
   "metadata": {
    "id": "turkish-kidney"
   },
   "source": [
    "# [A] Easy (must complete all to pass)"
   ]
  },
  {
   "cell_type": "markdown",
   "id": "short-capability",
   "metadata": {
    "id": "short-capability"
   },
   "source": [
    "### [A1] Verify that the `'order_hour_of_day'` and `'order_dow'` values in the `orders` tables are sensible (i.e. `'order_hour_of_day'` ranges from 0 to 23 and `'order_dow'` ranges from 0 to 6)\n",
    "\n",
    "To verify that the values in the `order_hour_of_day` and `order_dow` columns are sensible:\n",
    "\n",
    "1. **Check unique values**: Use `.unique()` on each column to extract all distinct values present.\n",
    "2. **Sort the results**: Use `sorted()` to arrange the unique values in ascending order for easier verification.\n",
    "3. **Validate ranges**:\n",
    "   - Ensure `order_hour_of_day` values range from 0 to 23 (representing hours of the day).\n",
    "   - Ensure `order_dow` values range from 0 to 6 (representing days of the week).\n",
    "\n",
    "This process confirms that the data aligns with expected ranges and there are no out-of-bound or invalid entries."
   ]
  },
  {
   "cell_type": "code",
   "execution_count": 39,
   "id": "growing-fruit",
   "metadata": {
    "id": "growing-fruit"
   },
   "outputs": [
    {
     "name": "stdout",
     "output_type": "stream",
     "text": [
      "Range order_hour_of_day: [0, 1, 2, 3, 4, 5, 6, 7, 8, 9, 10, 11, 12, 13, 14, 15, 16, 17, 18, 19, 20, 21, 22, 23]\n"
     ]
    }
   ],
   "source": [
    "#check unique values for order_hour_of_day \n",
    "\n",
    "print(f\"Range order_hour_of_day: {sorted(orders['order_hour_of_day'].unique())}\")\n",
    "\n",
    "\n"
   ]
  },
  {
   "cell_type": "code",
   "execution_count": 40,
   "id": "accessory-malaysia",
   "metadata": {
    "id": "accessory-malaysia"
   },
   "outputs": [
    {
     "name": "stdout",
     "output_type": "stream",
     "text": [
      "Range order_dow: [0, 1, 2, 3, 4, 5, 6]\n"
     ]
    }
   ],
   "source": [
    "#check unique values for order_dow\n",
    "print(f\"Range order_dow: {sorted(orders['order_dow'].unique())}\")"
   ]
  },
  {
   "cell_type": "markdown",
   "id": "a6743a70",
   "metadata": {
    "id": "a6743a70"
   },
   "source": [
    "### [A2] What time of day do people shop for groceries?\n",
    "\n",
    "To determine the time of day people shop for groceries, analyze the order_hour_of_day column in the orders dataset. Use .value_counts() to count the number of orders placed at each hour, and then sort the results by the hour for a clear chronological order.\n",
    "\n",
    "Finally, visualize the data with a bar plot to easily observe the shopping trends across different times of the day."
   ]
  },
  {
   "cell_type": "code",
   "execution_count": 41,
   "id": "a36cca27",
   "metadata": {
    "id": "a36cca27"
   },
   "outputs": [
    {
     "name": "stdout",
     "output_type": "stream",
     "text": [
      "0      3180\n",
      "1      1763\n",
      "2       989\n",
      "3       770\n",
      "4       765\n",
      "5      1371\n",
      "6      4215\n",
      "7     13043\n",
      "8     25024\n",
      "9     35896\n",
      "10    40578\n",
      "11    40032\n",
      "12    38034\n",
      "13    39007\n",
      "14    39631\n",
      "15    39789\n",
      "16    38112\n",
      "17    31930\n",
      "18    25510\n",
      "19    19547\n",
      "20    14624\n",
      "21    11019\n",
      "22     8512\n",
      "23     5611\n",
      "Name: order_hour_of_day, dtype: int64\n"
     ]
    },
    {
     "data": {
      "image/png": "[encoded data removed]",
      "text/plain": [
       "<Figure size 640x480 with 1 Axes>"
      ]
     },
     "metadata": {},
     "output_type": "display_data"
    }
   ],
   "source": [
    "#Count and sort order_hour_of_day - check information\n",
    "order_times= orders['order_hour_of_day'].value_counts().sort_index()\n",
    "print(order_times)\n",
    "\n",
    "#Create plot\n",
    "from matplotlib import pyplot as ord_times\n",
    "\n",
    "order_times.plot(title=\"Hourly Order Distribution\",\n",
    "                kind= 'bar',\n",
    "                xlabel=\"Hour of the day\",\n",
    "                ylabel=\"Number of orders\"\n",
    "                )\n",
    "ord_times.show()"
   ]
  },
  {
   "cell_type": "markdown",
   "id": "11270eed",
   "metadata": {
    "id": "11270eed"
   },
   "source": [
    "Most orders occur between 9:00 AM and 5:00 PM, with peaks at 10:00 AM and 3:00 PM"
   ]
  },
  {
   "cell_type": "markdown",
   "id": "documented-command",
   "metadata": {
    "id": "documented-command"
   },
   "source": [
    "### [A3] What day of the week do people shop for groceries?\n",
    "\n",
    "To figure out what day of the week people shop for groceries, analyze the order_dow column in the orders dataset. Use .value_counts() to count the number of orders for each day of the week, and then sort the results by the day index to maintain the correct order.\n",
    "\n",
    "Visualize the data with a bar plot to clearly observe shopping patterns across the days of the week."
   ]
  },
  {
   "cell_type": "code",
   "execution_count": 42,
   "id": "chief-digit",
   "metadata": {
    "id": "chief-digit"
   },
   "outputs": [
    {
     "name": "stdout",
     "output_type": "stream",
     "text": [
      "0    84090\n",
      "1    82185\n",
      "2    65833\n",
      "3    60897\n",
      "4    59810\n",
      "5    63488\n",
      "6    62649\n",
      "Name: order_dow, dtype: int64\n"
     ]
    },
    {
     "data": {
      "image/png": "[encoded data removed]",
      "text/plain": [
       "<Figure size 640x480 with 1 Axes>"
      ]
     },
     "metadata": {},
     "output_type": "display_data"
    }
   ],
   "source": [
    "#Count and sort order_dow - check information\n",
    "order_days= orders['order_dow'].value_counts().sort_index()\n",
    "print(order_days)\n",
    "\n",
    "#Create plot\n",
    "from matplotlib import pyplot as ord_days\n",
    "\n",
    "order_days.plot(title=\"Weekly Order Distribution\",\n",
    "                kind= 'bar',\n",
    "                xlabel=\"Day of the week\",\n",
    "                ylabel= \"Number of orders\"\n",
    "                )\n",
    "ord_times.show()\n"
   ]
  },
  {
   "cell_type": "markdown",
   "id": "dominant-lightning",
   "metadata": {
    "id": "dominant-lightning"
   },
   "source": [
    "The data dictionary does not state which integer corresponds to which day of the week. Assuming Sunday = 0, then people place more orders at the beginning of the week (Sunday and Monday)."
   ]
  },
  {
   "cell_type": "markdown",
   "id": "cutting-concert",
   "metadata": {
    "id": "cutting-concert"
   },
   "source": [
    "### [A4] How long do people wait until placing another order?\n",
    "\n",
    "To understand how long people wait before placing another order, analyze the days_since_prior_order column in the orders dataset. Use .value_counts() to count how many orders were placed for each interval of days, then sort the results by the number of days for clarity.\n",
    "\n",
    "Visualize the data using a bar plot to observe patterns in ordering frequency over time."
   ]
  },
  {
   "cell_type": "code",
   "execution_count": 43,
   "id": "c231f523",
   "metadata": {
    "id": "c231f523"
   },
   "outputs": [
    {
     "name": "stdout",
     "output_type": "stream",
     "text": [
      "0.0      9589\n",
      "1.0     20179\n",
      "2.0     27138\n",
      "3.0     30224\n",
      "4.0     31006\n",
      "5.0     30096\n",
      "6.0     33930\n",
      "7.0     44577\n",
      "8.0     25361\n",
      "9.0     16753\n",
      "10.0    13309\n",
      "11.0    11467\n",
      "12.0    10658\n",
      "13.0    11737\n",
      "14.0    13992\n",
      "15.0     9416\n",
      "16.0     6587\n",
      "17.0     5498\n",
      "18.0     4971\n",
      "19.0     4939\n",
      "20.0     5302\n",
      "21.0     6448\n",
      "22.0     4514\n",
      "23.0     3337\n",
      "24.0     3015\n",
      "25.0     2711\n",
      "26.0     2640\n",
      "27.0     2986\n",
      "28.0     3745\n",
      "29.0     2673\n",
      "30.0    51337\n",
      "Name: days_since_prior_order, dtype: int64\n"
     ]
    },
    {
     "data": {
      "image/png": "[encoded data removed]",
      "text/plain": [
       "<Figure size 640x480 with 1 Axes>"
      ]
     },
     "metadata": {},
     "output_type": "display_data"
    }
   ],
   "source": [
    "#Count and sort days_since_prior_order - check information\n",
    "reorder_days= orders['days_since_prior_order'].value_counts().sort_index()\n",
    "print(reorder_days)\n",
    "\n",
    "#Create Plot\n",
    "from matplotlib import pyplot as reord_days\n",
    "\n",
    "reorder_days.plot(title=\"Days between orders\",\n",
    "                kind= 'bar',\n",
    "                xlabel=\"Number of days between orders\",\n",
    "                ylabel= \"Number of orders\"\n",
    "                )\n",
    "ord_times.show()\n"
   ]
  },
  {
   "cell_type": "markdown",
   "id": "discrete-vertex",
   "metadata": {
    "id": "discrete-vertex"
   },
   "source": [
    "The 0 values probably correspond to customers who placed more than one order on the same day.\n",
    "\n",
    "The max value of 30 days and the high spike at that value is puzzling though. The spike might be explained by people who set up recurring subscriptions to automatically order once a month. But that doesn't explain why there are no values above 30 days. I would expect many customers to place orders less often than once a month. Maybe those customers were intentionally excluded from the dataset."
   ]
  },
  {
   "cell_type": "markdown",
   "id": "8d926614",
   "metadata": {
    "id": "8d926614"
   },
   "source": [
    "Disregarding the spike at 30 days, most people wait between 2 to 10 days in between orders. The most common wait time is 7 days. In other words, it's common for people to place weekly grocery orders. Interestingly, in the tail of the distribution we also see small spikes at 14, 21, and 28 days. These would correspond to orders every 2, 3, or 4 weeks."
   ]
  },
  {
   "cell_type": "markdown",
   "id": "tight-staff",
   "metadata": {
    "id": "tight-staff"
   },
   "source": [
    "# [B] Medium (must complete all to pass)"
   ]
  },
  {
   "cell_type": "markdown",
   "id": "packed-classic",
   "metadata": {
    "id": "packed-classic"
   },
   "source": [
    "### [B1] Is there a difference in `'order_hour_of_day'` distributions on Wednesdays and Saturdays? Plot the bar charts for both days and describe the differences that you see.\n",
    "\n",
    "To determine if there's a difference in the `order_hour_of_day` distributions on Wednesdays and Saturdays, follow these steps:\n",
    "\n",
    "1. **Create masks** for Wednesday (`order_dow == 3`) and Saturday (`order_dow == 6`) to filter the orders data.\n",
    "2. **Count the order hours** for each day using `.value_counts()` and sort them by hour with `.sort_index()` for clarity.\n",
    "3. **Combine the counts** for both days into a single DataFrame using `pd.concat()`, and label the columns for easier interpretation.\n",
    "\n",
    "After preparing the data, plot bar charts for both days to visually compare the distribution of order times. Look for patterns such as peaks or differences in the busiest times throughout the day."
   ]
  },
  {
   "cell_type": "markdown",
   "id": "e1ee2a9e",
   "metadata": {},
   "source": [
    " In Markdown with LaTeX, you can write"
   ]
  },
  {
   "cell_type": "code",
   "execution_count": 44,
   "id": "d89b8403",
   "metadata": {
    "id": "d89b8403"
   },
   "outputs": [],
   "source": [
    "#Masks for Wednesday (wed) and Saturday (sat)\n",
    "\n",
    "wed_order_dist= orders[orders['order_dow'] == 3]\n",
    "sat_order_dist= orders[orders['order_dow'] == 6]\n"
   ]
  },
  {
   "cell_type": "code",
   "execution_count": 45,
   "id": "94e54e8a",
   "metadata": {
    "id": "94e54e8a"
   },
   "outputs": [
    {
     "name": "stdout",
     "output_type": "stream",
     "text": [
      "0      373\n",
      "1      215\n",
      "2      106\n",
      "3      101\n",
      "4      108\n",
      "5      170\n",
      "6      643\n",
      "7     1732\n",
      "8     3125\n",
      "9     4490\n",
      "10    5026\n",
      "11    5004\n",
      "12    4688\n",
      "13    4674\n",
      "14    4774\n",
      "15    5163\n",
      "16    4976\n",
      "17    4175\n",
      "18    3463\n",
      "19    2652\n",
      "20    1917\n",
      "21    1450\n",
      "22    1154\n",
      "23     718\n",
      "Name: order_hour_of_day, dtype: int64\n",
      "0      464\n",
      "1      254\n",
      "2      177\n",
      "3      125\n",
      "4      118\n",
      "5      161\n",
      "6      451\n",
      "7     1619\n",
      "8     3246\n",
      "9     4311\n",
      "10    4919\n",
      "11    5116\n",
      "12    5132\n",
      "13    5323\n",
      "14    5375\n",
      "15    5188\n",
      "16    5029\n",
      "17    4295\n",
      "18    3338\n",
      "19    2610\n",
      "20    1847\n",
      "21    1473\n",
      "22    1185\n",
      "23     893\n",
      "Name: order_hour_of_day, dtype: int64\n"
     ]
    }
   ],
   "source": [
    "#Count the order hours & print to check\n",
    "wed_order_dist= wed_order_dist['order_hour_of_day'].value_counts().sort_index()\n",
    "print(wed_order_dist)\n",
    "\n",
    "sat_order_dist= sat_order_dist['order_hour_of_day'].value_counts().sort_index()\n",
    "print(sat_order_dist)\n"
   ]
  },
  {
   "cell_type": "code",
   "execution_count": 46,
   "id": "797c90a8",
   "metadata": {
    "id": "797c90a8"
   },
   "outputs": [],
   "source": [
    "#combine counts using concat\n",
    "combined = pd.concat([wed_order_dist, sat_order_dist], axis=1)\n",
    "\n",
    "# Rename columns \n",
    "combined.columns = ['Wednesday', 'Saturday']\n"
   ]
  },
  {
   "cell_type": "code",
   "execution_count": 47,
   "id": "35bcea30",
   "metadata": {
    "id": "35bcea30"
   },
   "outputs": [
    {
     "data": {
      "image/png": "[encoded data removed]",
      "text/plain": [
       "<Figure size 640x480 with 1 Axes>"
      ]
     },
     "metadata": {},
     "output_type": "display_data"
    },
    {
     "name": "stdout",
     "output_type": "stream",
     "text": [
      "Wednesday and Saturday have similar patterns of orders through the day. The biggest difference is between 12h and 14h where on Saturday the ammount of orders is higher. This can be attributed to lunch periods\n"
     ]
    }
   ],
   "source": [
    "#Create plot and write comments\n",
    "from matplotlib import pyplot as we_sa_comp\n",
    "combined.plot(title= 'Wednesday VS Saturday Hourly orders',\n",
    "              kind='bar',\n",
    "              xlabel=\"Time of the day\",\n",
    "              ylabel= \"Number of orders\",\n",
    "              legend= True\n",
    "             )\n",
    "\n",
    "we_sa_comp.show()\n",
    "\n",
    "print('Wednesday and Saturday have similar patterns of orders through the day. The biggest difference is between 12h and 14h where on Saturday the ammount of orders is higher. This can be attributed to lunch periods')"
   ]
  },
  {
   "cell_type": "markdown",
   "id": "charitable-congo",
   "metadata": {
    "id": "charitable-congo"
   },
   "source": [
    "There's a small dip from 11h to 13h on Wednesdays. This dip is absent on Saturdays. Maybe this dip can be attributed to people who don't use Instacart because they have lunch somewhere between 11h and 13h."
   ]
  },
  {
   "cell_type": "markdown",
   "id": "e3891143",
   "metadata": {
    "id": "e3891143"
   },
   "source": [
    "### [B2] What's the distribution for the number of orders per customer?\n",
    "\n",
    "To explore the distribution of the number of orders per customer:\n",
    "\n",
    "1. **Group the data** by `user_id` to calculate the total number of orders for each customer. Use `.groupby('user_id')` and count the `order_id` for each group.\n",
    "2. **Sort the results** using `.sort_values()` for better readability.\n",
    "3. **Visualize the distribution** using a histogram to observe how many orders most customers typically place.\n",
    "\n",
    "Adjust the number of bins in the histogram to refine the visualization and better capture the pattern."
   ]
  },
  {
   "cell_type": "code",
   "execution_count": 48,
   "id": "d8c26c23",
   "metadata": {
    "id": "d8c26c23"
   },
   "outputs": [
    {
     "name": "stdout",
     "output_type": "stream",
     "text": [
      "user_id\n",
      "152331     1\n",
      "139876     1\n",
      "60408      1\n",
      "139873     1\n",
      "139871     1\n",
      "          ..\n",
      "66664     24\n",
      "148162    24\n",
      "78375     25\n",
      "193164    26\n",
      "149605    28\n",
      "Name: order_id, Length: 157437, dtype: int64\n",
      "\n",
      "1     55357\n",
      "2     36508\n",
      "3     21547\n",
      "4     13498\n",
      "5      8777\n",
      "6      6012\n",
      "7      4240\n",
      "8      3019\n",
      "9      2152\n",
      "10     1645\n",
      "11     1308\n",
      "12      947\n",
      "13      703\n",
      "14      512\n",
      "15      437\n",
      "16      263\n",
      "17      184\n",
      "18      121\n",
      "19       85\n",
      "20       52\n",
      "21       22\n",
      "22       23\n",
      "23       19\n",
      "24        3\n",
      "25        1\n",
      "26        1\n",
      "28        1\n",
      "Name: order_id, dtype: int64\n"
     ]
    }
   ],
   "source": [
    "#group and sort- how many orders does each user place\n",
    "user_order_counts = orders.groupby('user_id')['order_id'].count()\n",
    "user_order_counts= user_order_counts.sort_values()\n",
    "print(user_order_counts)\n",
    "print()\n",
    "#How many users place 'x' ammount of orders \n",
    "orders_per_user_counts = user_order_counts.value_counts().sort_index()\n",
    "print(orders_per_user_counts)\n",
    "\n"
   ]
  },
  {
   "cell_type": "code",
   "execution_count": 49,
   "id": "00e69a66",
   "metadata": {
    "id": "00e69a66"
   },
   "outputs": [
    {
     "data": {
      "image/png": "[encoded data removed]",
      "text/plain": [
       "<Figure size 640x480 with 1 Axes>"
      ]
     },
     "metadata": {},
     "output_type": "display_data"
    }
   ],
   "source": [
    "from matplotlib import pyplot as plt\n",
    "#convert to df\n",
    "df_orders_per_user = orders_per_user_counts.reset_index()\n",
    "df_orders_per_user.columns = ['orders_per_user_count', 'user_count']\n",
    "\n",
    "#create plot\n",
    "df_orders_per_user.plot(\n",
    "    x='orders_per_user_count',\n",
    "    y='user_count',\n",
    "    kind='bar',\n",
    "    title='Number of Orders Made by each user',\n",
    "    xlabel='Number of Orders per User',\n",
    "    ylabel='Number of Users',\n",
    "    legend=False\n",
    "    )\n",
    "\n",
    "plt.show()\n"
   ]
  },
  {
   "cell_type": "markdown",
   "id": "d2eff7d5",
   "metadata": {
    "id": "d2eff7d5"
   },
   "source": [
    "Most customers in the dataset have placed between 1 and 10 orders, with number of orders per customer sharply decreasing after just 1 order."
   ]
  },
  {
   "cell_type": "markdown",
   "id": "54a0319c",
   "metadata": {
    "id": "54a0319c"
   },
   "source": [
    "### [B3] What are the top 20 popular products (display their id and name)?\n",
    "\n",
    "To identify the top 20 most popular products:\n",
    "\n",
    "1. **Merge the datasets**: Combine `order_products` and `products` on `product_id` to access both the product IDs and names in a single DataFrame.\n",
    "2. **Group the data**: Group by both `product_id` and `product_name` to aggregate the order counts for each product using `.size()`.\n",
    "3. **Sort the results**: Use `.sort_values(ascending=False)` to rank products by their popularity.\n",
    "4. **Display the top 20**: Use `.head(20)` to focus on the most frequently ordered products.\n",
    "5. **Visualize the results**: Create a bar chart to highlight the top products and their order counts.\n",
    "\n",
    "This will give you a clear view of the most popular products and their ranking.\n"
   ]
  },
  {
   "cell_type": "code",
   "execution_count": 50,
   "id": "exterior-arizona",
   "metadata": {
    "id": "exterior-arizona",
    "scrolled": true
   },
   "outputs": [
    {
     "name": "stdout",
     "output_type": "stream",
     "text": [
      "   order_id  product_id  add_to_cart_order  reordered  \\\n",
      "0   2141543       11440                 17          0   \n",
      "1    147172       11440                  7          1   \n",
      "2   3341719       11440                  4          1   \n",
      "3   1938779       11440                  8          1   \n",
      "4   1728338       11440                 23          0   \n",
      "\n",
      "                     product_name  aisle_id  department_id  \n",
      "0  chicken breast tenders breaded       129              1  \n",
      "1  chicken breast tenders breaded       129              1  \n",
      "2  chicken breast tenders breaded       129              1  \n",
      "3  chicken breast tenders breaded       129              1  \n",
      "4  chicken breast tenders breaded       129              1  \n"
     ]
    }
   ],
   "source": [
    "#merge datasets order_products and products on product_id\n",
    "\n",
    "merge_prod= order_products.merge(products,on='product_id')\n",
    "#print head\n",
    "print(merge_prod.head())\n"
   ]
  },
  {
   "cell_type": "code",
   "execution_count": 51,
   "id": "universal-facial",
   "metadata": {
    "id": "universal-facial"
   },
   "outputs": [
    {
     "name": "stdout",
     "output_type": "stream",
     "text": [
      "product_id  product_name            \n",
      "24852       banana                      66050\n",
      "13176       bag of organic bananas      53297\n",
      "21137       organic strawberries        37039\n",
      "21903       organic baby spinach        33971\n",
      "47209       organic hass avocado        29773\n",
      "47766       organic avocado             24689\n",
      "47626       large lemon                 21495\n",
      "16797       strawberries                20018\n",
      "26209       limes                       19690\n",
      "27845       organic whole milk          19600\n",
      "27966       organic raspberries         19197\n",
      "22935       organic yellow onion        15898\n",
      "24964       organic garlic              15292\n",
      "45007       organic zucchini            14584\n",
      "39275       organic blueberries         13879\n",
      "49683       cucumber kirby              13675\n",
      "28204       organic fuji apple          12544\n",
      "5876        organic lemon               12232\n",
      "8277        apple honeycrisp organic    11993\n",
      "40706       organic grape tomatoes      11781\n",
      "dtype: int64\n"
     ]
    }
   ],
   "source": [
    "#group the data product_id and product_name\n",
    "prod_grp=merge_prod.groupby(['product_id','product_name']).size()\n",
    "#sort\n",
    "grp_sorted=prod_grp.sort_values(ascending=False)\n",
    "#display top 20\n",
    "grp_sort_20 = grp_sorted.head(20)\n",
    "print(grp_sort_20)"
   ]
  },
  {
   "cell_type": "code",
   "execution_count": 52,
   "id": "bbcdd20b",
   "metadata": {
    "id": "bbcdd20b"
   },
   "outputs": [
    {
     "data": {
      "image/png": "[encoded data removed]",
      "text/plain": [
       "<Figure size 640x480 with 1 Axes>"
      ]
     },
     "metadata": {},
     "output_type": "display_data"
    }
   ],
   "source": [
    "#Bar chart\n",
    "\n",
    "\n",
    "from matplotlib import pyplot as top20\n",
    "grp_sort_20.plot(title= 'Top 20 ordered items',\n",
    "                kind='bar',\n",
    "                xlabel=\"Most ordered products\",\n",
    "                ylabel= \"Number of orders\",\n",
    "                )\n",
    "top20.show()\n",
    "\n"
   ]
  },
  {
   "cell_type": "markdown",
   "id": "36d9c1f4-b52a-4a92-a0f8-aeaf68b3a860",
   "metadata": {
    "id": "7df00f47"
   },
   "source": [
    "The top 20 items are all produce, except for the milk. Looks like people want delicious and nutritious!"
   ]
  },
  {
   "cell_type": "markdown",
   "id": "gross-theme",
   "metadata": {
    "id": "gross-theme"
   },
   "source": [
    "# [C] Hard (must complete at least two to pass)"
   ]
  },
  {
   "cell_type": "markdown",
   "id": "romantic-deposit",
   "metadata": {
    "id": "romantic-deposit"
   },
   "source": [
    "### [C1] How many items do people typically buy in one order? What does the distribution look like?\n",
    "To analyze how many items people typically buy in one order:\n",
    "\n",
    "1. **Group the data** by `order_id` and count the number of products (`product_id`) in each order using `.count()`. This gives the number of items in each order.\n",
    "2. **Aggregate the counts**: Use `.value_counts()` to determine how frequently different order sizes occur, and then sort the results with `.sort_index()` to organize by the number of items.\n",
    "3. **Visualize the distribution**: Use a bar plot to show the frequency of orders for each size, with the x-axis representing the number of items and the y-axis representing the number of orders.\n",
    "\n",
    "This will help you understand the typical size of a grocery order and identify any trends in purchasing behavior."
   ]
  },
  {
   "cell_type": "code",
   "execution_count": 53,
   "id": "virtual-punch",
   "metadata": {
    "id": "virtual-punch"
   },
   "outputs": [
    {
     "name": "stdout",
     "output_type": "stream",
     "text": [
      "order_id\n",
      "4          13\n",
      "9          15\n",
      "11          5\n",
      "19          3\n",
      "20          8\n",
      "           ..\n",
      "3421034    17\n",
      "3421053     9\n",
      "3421071     5\n",
      "3421077     4\n",
      "3421079     1\n",
      "Name: product_id, Length: 450046, dtype: int64\n",
      "\n",
      "1      21847\n",
      "2      26292\n",
      "3      29046\n",
      "4      31054\n",
      "5      31923\n",
      "       ...  \n",
      "98         1\n",
      "104        1\n",
      "108        1\n",
      "115        1\n",
      "127        1\n",
      "Name: product_id, Length: 90, dtype: int64\n"
     ]
    }
   ],
   "source": [
    "#group by order_id - how many products on each order\n",
    "prod_grp= order_products.groupby(['order_id'])['product_id'].count()\n",
    "print(prod_grp)\n",
    "print()\n",
    "#Value counts and sort - how frequently order sixe happens\n",
    "freq_ord_size= prod_grp.value_counts().sort_index()\n",
    "print(freq_ord_size)"
   ]
  },
  {
   "cell_type": "code",
   "execution_count": 54,
   "id": "sensitive-breathing",
   "metadata": {
    "id": "sensitive-breathing"
   },
   "outputs": [
    {
     "data": {
      "image/png": "[encoded data removed]",
      "text/plain": [
       "<Figure size 640x480 with 1 Axes>"
      ]
     },
     "metadata": {},
     "output_type": "display_data"
    }
   ],
   "source": [
    "from matplotlib import pyplot as freq\n",
    "#create df from freq_ord_size\n",
    "df_freq_ord_size = freq_ord_size.reset_index()\n",
    "df_freq_ord_size.columns = ['items_per_ord', 'number_of_orders']\n",
    "\n",
    "#create plot\n",
    "\n",
    "df_freq_ord_size.plot(x= 'items_per_ord',\n",
    "                      y= 'number_of_orders',\n",
    "                      title= 'Order sizes',\n",
    "                      kind='bar',\n",
    "                      xlabel=\"Items per order\",\n",
    "                      ylabel= \"Number of orders\",\n",
    "                      legend= False\n",
    "                      )\n",
    "\n",
    "freq.show()"
   ]
  },
  {
   "cell_type": "markdown",
   "id": "bd4ed530",
   "metadata": {
    "id": "bd4ed530"
   },
   "source": [
    "Most of the order numbers are in the tail of the distribution. To get a better look at the non-tail part, let's choose a value in the tail as a cutoff and just plot order with fewer than that many items. An order size of 35 items is far enough into the tail for this."
   ]
  },
  {
   "cell_type": "code",
   "execution_count": 55,
   "id": "completed-frank",
   "metadata": {
    "id": "completed-frank"
   },
   "outputs": [
    {
     "data": {
      "image/png": "[encoded data removed]",
      "text/plain": [
       "<Figure size 640x480 with 1 Axes>"
      ]
     },
     "metadata": {},
     "output_type": "display_data"
    }
   ],
   "source": [
    "#find orders from 1 to 35 items\n",
    "df_top_35 = df_freq_ord_size.head(35)\n",
    "\n",
    "\n",
    "#re do the bar plot\n",
    "df_top_35.plot(x= 'items_per_ord',\n",
    "                      y= 'number_of_orders',\n",
    "                      title= 'Order sizes',\n",
    "                      kind='bar',\n",
    "                      xlabel=\"Items per order\",\n",
    "                      ylabel= \"Number of orders\",\n",
    "                      legend= False,\n",
    "                      )\n",
    "\n",
    "\n",
    "freq.show()"
   ]
  },
  {
   "cell_type": "markdown",
   "id": "designed-mortality",
   "metadata": {
    "id": "designed-mortality"
   },
   "source": [
    "The typical order contains 5 or 6 items, with most orders having between 1 and 20 items."
   ]
  },
  {
   "cell_type": "markdown",
   "id": "5e6b5537",
   "metadata": {
    "id": "5e6b5537"
   },
   "source": [
    "### [C2] What are the top 20 items that are reordered most frequently (display their names and product IDs)?\n",
    "\n",
    "To find the top 20 most frequently reordered items:\n",
    "\n",
    "1. **Filter the data**: Use `order_products['reordered'] == 1` to isolate only the products that have been reordered.\n",
    "2. **Merge the datasets**: Combine the filtered `order_products` with the `products` dataset on `product_id` to get both the product names and IDs.\n",
    "3. **Group the data**: Group by both `product_id` and `product_name` to calculate how many times each product was reordered, using `.size()`.\n",
    "4. **Sort the results**: Use `.sort_values(ascending=False)` to rank the products by reorder frequency.\n",
    "5. **Display the top 20**: Use `.head(20)` to focus on the most frequently reordered products.\n",
    "6. **Visualize the data**: Create a bar chart to showcase the top reordered items and their frequencies.\n",
    "\n",
    "This process highlights the products that customers consistently return to and reorder."
   ]
  },
  {
   "cell_type": "code",
   "execution_count": 56,
   "id": "9374e55a",
   "metadata": {
    "id": "9374e55a"
   },
   "outputs": [
    {
     "name": "stdout",
     "output_type": "stream",
     "text": [
      "         order_id  product_id  add_to_cart_order  reordered  \\\n",
      "0          567889        1560                  1          1   \n",
      "1          761899        1560                  2          1   \n",
      "2         1388514        1560                  8          1   \n",
      "3         2629631        1560                  1          1   \n",
      "4          866921        1560                  6          1   \n",
      "...           ...         ...                ...        ...   \n",
      "2674347   1338379       33506                  3          1   \n",
      "2674348    191894       27878                  3          1   \n",
      "2674349   3041739       31751                 14          1   \n",
      "2674350    949244       24384                 18          1   \n",
      "2674351   1078099       47673                 11          1   \n",
      "\n",
      "                                              product_name  aisle_id  \\\n",
      "0                                               bag of ice        37   \n",
      "1                                               bag of ice        37   \n",
      "2                                               bag of ice        37   \n",
      "3                                               bag of ice        37   \n",
      "4                                               bag of ice        37   \n",
      "...                                                    ...       ...   \n",
      "2674347  simply 9 white meat chicken & whole barley rec...        40   \n",
      "2674348        crackers wheat sundried tomato basil crispy        78   \n",
      "2674349                       french style cut green beans       116   \n",
      "2674350                        invisible matte finish tape        10   \n",
      "2674351         toast chee peanut butter sandwich crackers        78   \n",
      "\n",
      "         department_id  \n",
      "0                    1  \n",
      "1                    1  \n",
      "2                    1  \n",
      "3                    1  \n",
      "4                    1  \n",
      "...                ...  \n",
      "2674347              8  \n",
      "2674348             19  \n",
      "2674349              1  \n",
      "2674350             17  \n",
      "2674351             19  \n",
      "\n",
      "[2674352 rows x 7 columns]\n"
     ]
    }
   ],
   "source": [
    "# isolate data - what products have been reordered\n",
    "reorder_prods = order_products[order_products['reordered'] == 1]\n",
    "\n",
    "# Merge with products on product_id\n",
    "reordered_merged = reorder_prods.merge(products, on='product_id', how='inner')\n",
    "\n",
    "print(reordered_merged)"
   ]
  },
  {
   "cell_type": "code",
   "execution_count": 57,
   "id": "possible-change",
   "metadata": {
    "id": "possible-change",
    "scrolled": true
   },
   "outputs": [
    {
     "name": "stdout",
     "output_type": "stream",
     "text": [
      "product_id  product_name                                             \n",
      "24852       banana                                                       55763\n",
      "13176       bag of organic bananas                                       44450\n",
      "21137       organic strawberries                                         28639\n",
      "21903       organic baby spinach                                         26233\n",
      "47209       organic hass avocado                                         23629\n",
      "                                                                         ...  \n",
      "28081       whole wheat with white cheddar filling cracker sandwiches        1\n",
      "28084       cote d azur french milled oval bar soap                          1\n",
      "28089       rolled hot cereal 5 grain                                        1\n",
      "28112       hickory &  brown sugar barbecue sauce                            1\n",
      "49688       fresh foaming cleanser                                           1\n",
      "Length: 35639, dtype: int64\n"
     ]
    }
   ],
   "source": [
    "#group product_id and product_name\n",
    "grp_reord= reordered_merged.groupby(['product_id','product_name']).size()\n",
    "#sort\n",
    "grp_reord= grp_reord.sort_values(ascending=False)\n",
    "print(grp_reord)\n"
   ]
  },
  {
   "cell_type": "code",
   "execution_count": 58,
   "id": "professional-surfing",
   "metadata": {
    "id": "professional-surfing",
    "scrolled": true
   },
   "outputs": [
    {
     "name": "stdout",
     "output_type": "stream",
     "text": [
      "product_id  product_name            \n",
      "24852       banana                      55763\n",
      "13176       bag of organic bananas      44450\n",
      "21137       organic strawberries        28639\n",
      "21903       organic baby spinach        26233\n",
      "47209       organic hass avocado        23629\n",
      "47766       organic avocado             18743\n",
      "27845       organic whole milk          16251\n",
      "47626       large lemon                 15044\n",
      "27966       organic raspberries         14748\n",
      "16797       strawberries                13945\n",
      "26209       limes                       13327\n",
      "22935       organic yellow onion        11145\n",
      "24964       organic garlic              10411\n",
      "45007       organic zucchini            10076\n",
      "49683       cucumber kirby               9538\n",
      "28204       organic fuji apple           8989\n",
      "8277        apple honeycrisp organic     8836\n",
      "39275       organic blueberries          8799\n",
      "5876        organic lemon                8412\n",
      "49235       organic half & half          8389\n",
      "dtype: int64\n"
     ]
    }
   ],
   "source": [
    "#find the top 20\n",
    "grp_reord_20= grp_reord.head(20)\n",
    "print(grp_reord_20)"
   ]
  },
  {
   "cell_type": "code",
   "execution_count": 59,
   "id": "48dd3658",
   "metadata": {
    "id": "48dd3658"
   },
   "outputs": [
    {
     "data": {
      "image/png": "[encoded data removed]",
      "text/plain": [
       "<Figure size 640x480 with 1 Axes>"
      ]
     },
     "metadata": {},
     "output_type": "display_data"
    }
   ],
   "source": [
    "from matplotlib import pyplot as topre20\n",
    "grp_reord_20.plot(title= 'Top 20 reordered items',\n",
    "                kind='bar',\n",
    "                xlabel=\"Most ordered products\",\n",
    "                ylabel= \"Number of orders\",\n",
    "                )\n",
    "topre20.show()\n"
   ]
  },
  {
   "cell_type": "markdown",
   "id": "80e70c74",
   "metadata": {
    "id": "80e70c74"
   },
   "source": [
    "It looks like produce and dairy comprise the most reordered products as well. It makes sense that perishables would be the most reordered items."
   ]
  },
  {
   "cell_type": "markdown",
   "id": "9d312b14",
   "metadata": {
    "id": "9d312b14"
   },
   "source": [
    "### [C3] For each product, what proportion of its orders are reorders?\n",
    "\n",
    "To calculate the proportion of orders for each product that are reorders:\n",
    "\n",
    "1. **Merge the datasets**: Combine `order_products` with the `products` dataset to access product names and IDs in the same DataFrame.\n",
    "2. **Group the data**: Group by `product_id` and `product_name` to isolate each product's order history.\n",
    "3. **Calculate the mean of `reordered`**: Use `.mean()` on the `reordered` column to compute the proportion of orders for each product that were reorders. The value represents the reorder rate.\n",
    "4. **Sort the results**: Use `.sort_values(ascending=False)` to rank products by their reorder rates.\n",
    "5. **Convert to a DataFrame**: Use `.reset_index()` to organize the grouped data into a readable DataFrame.\n",
    "6. **Optional Sorting**: Sort the results by `product_id` or another column for better clarity.\n",
    "\n",
    "This approach provides insights into how frequently each product is reordered, helping identify customer favorites or staples.\n"
   ]
  },
  {
   "cell_type": "code",
   "execution_count": 60,
   "id": "8ae9f4b1",
   "metadata": {
    "id": "8ae9f4b1"
   },
   "outputs": [
    {
     "name": "stdout",
     "output_type": "stream",
     "text": [
      "product_id  product_name                              \n",
      "18121       jalapenos with sea salt                       1.0\n",
      "27387       banana greek nonfat yogurt                    1.0\n",
      "17773       quinoa- with olive oil                        1.0\n",
      "49063       rosemary & sea salt crackers                  1.0\n",
      "14935       kombucha blueberry basil                      1.0\n",
      "                                                         ... \n",
      "25053       frost arctic blitz sports drink               0.0\n",
      "25051       herb for beef gravy mix                       0.0\n",
      "25045       bandages- waterproof                          0.0\n",
      "25044       pure pacific mountain strawberry preserves    0.0\n",
      "24793       sea salt- course                              0.0\n",
      "Name: reordered, Length: 44516, dtype: float64\n"
     ]
    }
   ],
   "source": [
    "\n",
    "#merge  order_products with the products\n",
    "merge_ord_prod= order_products.merge(products, on='product_id')\n",
    "#group product_id and product_name\n",
    "grp_ord_prod = merge_ord_prod.groupby(['product_id', 'product_name'])['reordered'].mean()\n",
    "#sort\n",
    "sorted_reorder = grp_ord_prod.sort_values(ascending=False)\n",
    "\n",
    "#print to verify data\n",
    "print(sorted_reorder)\n"
   ]
  },
  {
   "cell_type": "code",
   "execution_count": 61,
   "id": "103e7fe1",
   "metadata": {
    "id": "103e7fe1"
   },
   "outputs": [],
   "source": [
    "#convert to dataframe\n",
    "\n",
    "sorted_reorder_df=sorted_reorder.reset_index()"
   ]
  },
  {
   "cell_type": "code",
   "execution_count": 62,
   "id": "social-individual",
   "metadata": {
    "id": "social-individual"
   },
   "outputs": [
    {
     "name": "stdout",
     "output_type": "stream",
     "text": [
      "       product_id                                       product_name  \\\n",
      "11957           1                         chocolate sandwich cookies   \n",
      "44430           2                                   all-seasons salt   \n",
      "3746            3               robust golden unsweetened oolong tea   \n",
      "14764           4  smart ones classic favorites mini rigatoni wit...   \n",
      "17908           7                     pure coconut water with orange   \n",
      "...           ...                                                ...   \n",
      "38357       49684          vodka- triple distilled- twist of vanilla   \n",
      "17853       49685                 en croute roast hazelnut cranberry   \n",
      "8600        49686                                   artisan baguette   \n",
      "38360       49687         smartblend healthy metabolism dry cat food   \n",
      "34870       49688                             fresh foaming cleanser   \n",
      "\n",
      "       reordered  \n",
      "11957   0.564286  \n",
      "44430   0.000000  \n",
      "3746    0.738095  \n",
      "14764   0.510204  \n",
      "17908   0.500000  \n",
      "...          ...  \n",
      "38357   0.000000  \n",
      "17853   0.500000  \n",
      "8600    0.625000  \n",
      "38360   0.000000  \n",
      "34870   0.111111  \n",
      "\n",
      "[44516 rows x 3 columns]\n"
     ]
    }
   ],
   "source": [
    "#sort by product_id\n",
    "sorted_by_id = sorted_reorder_df.sort_values(by='product_id')\n",
    "print(sorted_by_id)"
   ]
  },
  {
   "cell_type": "markdown",
   "id": "subject-boxing",
   "metadata": {
    "id": "subject-boxing"
   },
   "source": [
    "### [C4] For each customer, what proportion of their products ordered are reorders?\n",
    "\n",
    "To calculate the proportion of products reordered by each customer:\n",
    "\n",
    "1. **Merge the datasets**: Combine `order_products` with `orders` to link order and customer information.\n",
    "2. **Group the data**: Group by `user_id` to focus on each customer's ordering behavior.\n",
    "3. **Calculate the mean of `reordered`**: Use `.mean()` on the `reordered` column to determine the proportion of products reordered by each customer.\n",
    "4. **Sort the results**: Use `.sort_values(ascending=False)` to identify customers with the highest reorder rates.\n",
    "5. **Convert to a DataFrame**: Use `.reset_index()` to format the grouped data into a structured DataFrame for further analysis.\n",
    "\n",
    "This analysis reveals the extent to which individual customers reorder products, providing insights into customer loyalty and preferences.\n"
   ]
  },
  {
   "cell_type": "code",
   "execution_count": 63,
   "id": "medical-couple",
   "metadata": {
    "id": "medical-couple",
    "scrolled": true
   },
   "outputs": [
    {
     "name": "stdout",
     "output_type": "stream",
     "text": [
      "        user_id  reordered\n",
      "0        137587        1.0\n",
      "1        173474        1.0\n",
      "2         13918        1.0\n",
      "3         62300        1.0\n",
      "4         62307        1.0\n",
      "...         ...        ...\n",
      "149621   190953        0.0\n",
      "149622   119371        0.0\n",
      "149623    63173        0.0\n",
      "149624    63163        0.0\n",
      "149625   165726        0.0\n",
      "\n",
      "[149626 rows x 2 columns]\n"
     ]
    }
   ],
   "source": [
    "\n",
    "# merge order_products with orders\n",
    "mer_prod_ord= order_products.merge(orders, on='order_id')\n",
    "#group by user_id and apply .mean() to reordered\n",
    "grp_prod_ord= mer_prod_ord.groupby('user_id')['reordered'].mean()\n",
    "#sort\n",
    "grp_prod_ord=grp_prod_ord.sort_values(ascending=False)\n",
    "#convert to DF\n",
    "df_reorder_user=grp_prod_ord.reset_index()\n",
    "#print to confimr\n",
    "print(df_reorder_user)\n"
   ]
  },
  {
   "cell_type": "markdown",
   "id": "92d35137",
   "metadata": {
    "id": "92d35137"
   },
   "source": [
    "### [C5] What are the top 20 items that people put in their carts first?\n",
    "\n",
    "To identify the top 20 items that people most frequently add to their carts first:\n",
    "\n",
    "1. **Merge the datasets**: Combine `order_products` with `products` to link product names and IDs.\n",
    "2. **Filter the data**: Focus on rows where `add_to_cart_order` equals 1, indicating the first item added to the cart.\n",
    "3. **Group the data**: Group by `product_id` and `product_name` to aggregate the count of how often each product was the first in a cart.\n",
    "4. **Count occurrences**: Use `.count()` to calculate the total number of times each product was the first added.\n",
    "5. **Sort the results**: Use `.sort_values(ascending=False)` to rank products by their first-in-cart frequency.\n",
    "6. **Display the top 20**: Use `.head(20)` to extract the most popular first-in-cart items.\n",
    "\n",
    "This provides insights into which products customers prioritize in their shopping process.\n"
   ]
  },
  {
   "cell_type": "code",
   "execution_count": 64,
   "id": "0ae57274",
   "metadata": {
    "id": "0ae57274",
    "scrolled": true
   },
   "outputs": [
    {
     "name": "stdout",
     "output_type": "stream",
     "text": [
      "product_id  product_name               \n",
      "24852       banana                         15562\n",
      "13176       bag of organic bananas         11026\n",
      "27845       organic whole milk              4363\n",
      "21137       organic strawberries            3946\n",
      "47209       organic hass avocado            3390\n",
      "21903       organic baby spinach            3336\n",
      "47766       organic avocado                 3044\n",
      "19660       spring water                    2336\n",
      "16797       strawberries                    2308\n",
      "27966       organic raspberries             2024\n",
      "44632       sparkling water grapefruit      1914\n",
      "49235       organic half & half             1797\n",
      "47626       large lemon                     1737\n",
      "196         soda                            1733\n",
      "38689       organic reduced fat milk        1397\n",
      "26209       limes                           1370\n",
      "12341       hass avocados                   1340\n",
      "5785        organic reduced fat 2% milk     1310\n",
      "27086       half & half                     1309\n",
      "43352       raspberries                     1246\n",
      "Name: product_name, dtype: int64\n"
     ]
    }
   ],
   "source": [
    "# merge order_products with products\n",
    "mer_prod_ord= order_products.merge(products, on='product_id')\n",
    "#filter add_to_cart_order ==1\n",
    "first_product = mer_prod_ord[mer_prod_ord['add_to_cart_order'] == 1]\n",
    "#Group by product_id and product_name and apply count\n",
    "grp_first_product= first_product.groupby(['product_id','product_name'])['product_name'].count()\n",
    "#sort\n",
    "grp_first_product=grp_first_product.sort_values(ascending=False)\n",
    "#find top 20\n",
    "grp_first_product_20=grp_first_product.head(20)\n",
    "#display\n",
    "print(grp_first_product_20)\n"
   ]
  },
  {
   "cell_type": "markdown",
   "id": "28ce9872",
   "metadata": {
    "id": "28ce9872"
   },
   "source": [
    "The products that are most often placed into the cart first are produce, dairy, and beverages such as soda or water. I couldn't really say why that is without experience using Instacart because this could have more to do with app design than properties of the products. I do notice that there is considerable overlap between this result and the previous result for most popular and most reordered item types. It could simply be that the app prioritizes popular items as the first suggested purchases, so it happens to be more convenient for customers to place these items in their cart first."
   ]
  },
  {
   "attachments": {},
   "cell_type": "markdown",
   "id": "45b933f8-7f59-43d3-b807-72a58bdc623b",
   "metadata": {},
   "source": [
    "<b> Conclusions </b>\n",
    "\n",
    "The products most frequently placed first in customers’ carts are often fresh produce, dairy items, and beverages like soda and water. These categories also appear consistently among the most ordered and most reordered items. This overlap suggests that customers are not simply making one-off purchases, but rather returning to the app regularly for routine grocery needs.\n",
    "\n",
    "Additionally, we observe that many reorders occur in weekly intervals—on days 7, 14, 21, and 30—which points to habitual purchasing behavior. This pattern strongly implies that customers have integrated Instacart into their ongoing grocery routines, using it not just as a convenience tool, but as a primary channel for restocking household essentials.\n",
    "\n",
    "The first two days of the week stand out as the most popular times for placing orders, indicating that many customers plan their grocery shopping early in the week.\n",
    "\n",
    "\n",
    "Looking at customer behavior, most users in the dataset have placed between 1 and 10 orders, with a steep drop-off after just a single order. This suggests that while many try the service, a smaller group becomes regular shoppers.\n",
    "\n",
    "\n",
    "As for order size, the typical order contains about 5 or 6 items, with the majority of orders ranging anywhere from 1 to 20 items. This range reflects the mix of quick top-ups and fuller weekly shopping trips.\n"
   ]
  }
 ],
 "metadata": {
  "colab": {
   "provenance": []
  },
  "kernelspec": {
   "display_name": "Python 3 (ipykernel)",
   "language": "python",
   "name": "python3"
  },
  "language_info": {
   "codemirror_mode": {
    "name": "ipython",
    "version": 3
   },
   "file_extension": ".py",
   "mimetype": "text/x-python",
   "name": "python",
   "nbconvert_exporter": "python",
   "pygments_lexer": "ipython3",
   "version": "3.9.23"
  }
 },
 "nbformat": 4,
 "nbformat_minor": 5
}
